{
 "cells": [
  {
   "cell_type": "markdown",
   "id": "40088ea5",
   "metadata": {},
   "source": [
    "# Online Shoppers Purchasing Intention Prediction Model"
   ]
  },
  {
   "cell_type": "markdown",
   "id": "5461dccf",
   "metadata": {},
   "source": [
    "## Authored by :\n",
    "\n",
    "**Team_TechTitans**\\\n",
    "Satya Srirama Siva Krishna Sanam - U19448106\\\n",
    "Sri Sai Tharun Kesavadas - U07427133\\\n",
    "Nellutla Sai Nikhil - U39387302\\\n",
    "Ruthvik Bacha - U12145480\\\n",
    "Dalavai Gagannath - U45739433"
   ]
  },
  {
   "cell_type": "markdown",
   "id": "3ab42e2c",
   "metadata": {},
   "source": [
    "## Problem Statement"
   ]
  },
  {
   "cell_type": "markdown",
   "id": "82b735dd",
   "metadata": {},
   "source": [
    "Online Shopping is a huge and growing form of purchasing which caters to huge portion of business revenue in the e-commerce sector. The client is facing the problem of low rate of sales conversion and seeks to increase revenue from its online shopping platform by converting visitors into customers on the basis of the customer’s online activities.Given clickstream and session data of a user who visits an e-commerce website, can we predict whether or not that visitor will make a purchase?\n",
    "\n",
    "Answering this question is critical for these types of companies in order to ensure that they are able to remain profitable. This information can be used to nudge a potential customer in real-time to complete an online purchase, increasing overall purchase conversion rates.\n",
    "\n",
    "The dataset consists of 18 features belonging to 12330 sessions of unique users.The dataset was formed so that each session would belong to a different user in a 1-year period to avoid any tendency to a specific campaign, special day, user profile, or period."
   ]
  },
  {
   "cell_type": "markdown",
   "id": "62419c3a",
   "metadata": {},
   "source": [
    "## Preliminary Business Problem Scope\n",
    "\n",
    "Our project is focused on applying Machine Learning classification models to e-commerce website data.The Objective of this project is to build a 'Predictive Machine Learning Model' that can predict customer purchase intention as accurately as possible.This project aims to use the information of customers by tracing their web acitivity when they visit an online shopping site.We intend to develop different machine learning models and evaluate them and identify best model in predicting purchasing intention of a customer."
   ]
  },
  {
   "cell_type": "markdown",
   "id": "7f9e0858",
   "metadata": {},
   "source": [
    "## Choosing Best Evaluation Metric for the Model "
   ]
  },
  {
   "cell_type": "markdown",
   "id": "3f8fe904",
   "metadata": {},
   "source": [
    "#### Our model predicts whether a shopper intends to make a purchase or not .\n",
    "\n",
    "True Positives (TP): These are instances where the model correctly predicts that a shopper intends to make a purchase. These are our successful predictions. \n",
    "\n",
    "True Negatives (TN): These are cases where the model correctly predicts that a shopper does not intend to make a purchase. These represent accurate negative predictions.\n",
    "\n",
    "False Positives (FP): In these instances, the model wrongly predicts that a shopper intends to make a purchase when they do not. These are also known as Type I errors or 'false alarms.'\n",
    "\n",
    "False Negatives (FN): Here, the model incorrectly predicts that a shopper does not intend to make a purchase when they actually do. These are Type II errors or 'missed opportunities.'"
   ]
  },
  {
   "cell_type": "markdown",
   "id": "47de246a",
   "metadata": {},
   "source": [
    "###  We have chosen f1 as best evaluation metric for our model.\n",
    "\n",
    "Initially we have thought of using **recall** as our performance metric as it is ability to identify all relevant instances of the positive class. In the context of online shopper purchase intention, recall can be explained as follows:\n",
    "\n",
    "**True Positives(TP)**: As mentioned earlier, these are cases where the model correctly predicts potential customers who intend to make a purchase.\n",
    "\n",
    "**False Negatives(FN)**: These are instances where the model incorrectly predicts that a shopper does not intend to make a purchase when they actually do.\n",
    "\n",
    "For an online retailer, high recall ensures that as many potential customers as possible are correctly identified, increasing the chances of conversion and revenue.\n",
    "\n",
    "**Cost of having more False Negatives** :\n",
    "\n",
    "In this case having more false negatives could lead to lost sales and revenue.The user may not receive relevant product recommendations or incentives, potentially causing them to abandon their shopping session.So we also need to better Recall for the model.\n",
    "\n",
    "So having high recall indicates lower rate of false negatives.\n",
    "\n",
    "------------------------------------------------------------------------------------------------------\n",
    "\n",
    "On the other hand we felt **precision** is also important as it is ability of the model to make accurate positive predictions, out of all the positive predictions it makes.\n",
    "\n",
    "Precision measures the accuracy of positive predictions made by the model. In the context of online shopper purchase intention, precision can be explained as follows:\n",
    "\n",
    "**True Positives(TP)**: These are cases where the model correctly predicts that a shopper intends to make a purchase. For an online retailer, this means correctly identifying potential customers who are likely to complete a purchase.\n",
    "\n",
    "**False Positives(FP)**: These are instances where the model wrongly predicts that a shopper intends to make a purchase when they do not. \n",
    "\n",
    "For an online retailer, high precision means accurately identifying and targeting potential customers to increase the chances of conversion while avoiding unnecessary promotional efforts on customers who are unlikely to make a purchase.\n",
    "\n",
    "**Cost of having more False Postives** :\n",
    "\n",
    "This can result in annoying or spamming customers, which may lead to dissatisfaction and even loss of potential sales if the user decides to disengage from the platform. It can also incur additional marketing costs and resource wastage.So we need to better Precision for the model.\n",
    "\n",
    "A higher precision indicates a lower rate of false positives."
   ]
  },
  {
   "cell_type": "markdown",
   "id": "9369d42b",
   "metadata": {},
   "source": [
    "#### Reasons for choosing F1 as main evaluation metric\n",
    "\n",
    "We felt in this case both precision and recall might be of equal importance.\n",
    "\n",
    "Therefore we have decided to stike a balance between recall and precision. We wanted a single measure that considers both the false positives and false negatives in a classification model.That is the reason why we chose 'F1-score' as our perofrmance metric.\n",
    "\n",
    "The F1 score provides a single number that tells you how well your model is at both finding all the relevant items (high recall) and ensuring those it identified are indeed relevant (high precision). It's a way to balance the trade-off between making sure you catch as many relevant things as possible while avoiding false alarms."
   ]
  },
  {
   "cell_type": "markdown",
   "id": "59cefdd5",
   "metadata": {},
   "source": [
    "## Step 1: Importing Required libraries"
   ]
  },
  {
   "cell_type": "markdown",
   "id": "efc71694",
   "metadata": {},
   "source": [
    "In this section we will import the required libraries for the notebook to perform our predictive analysis of the model."
   ]
  },
  {
   "cell_type": "code",
   "execution_count": 63,
   "id": "8e843c37",
   "metadata": {},
   "outputs": [],
   "source": [
    "import pandas as pd\n",
    "import numpy as np\n",
    "import matplotlib.pyplot as plt\n",
    "from sklearn.model_selection import train_test_split\n",
    "from sklearn.preprocessing import StandardScaler\n",
    "from imblearn.over_sampling import SMOTE\n",
    "from sklearn.linear_model import LogisticRegression\n",
    "from sklearn.neighbors import KNeighborsClassifier\n",
    "from sklearn.svm import SVC\n",
    "from sklearn.tree import DecisionTreeClassifier\n",
    "from sklearn.model_selection import GridSearchCV, RandomizedSearchCV\n",
    "from sklearn.metrics import accuracy_score, classification_report,precision_score, recall_score, f1_score, confusion_matrix, ConfusionMatrixDisplay\n",
    "from sklearn.ensemble import RandomForestClassifier, GradientBoostingClassifier, AdaBoostClassifier\n",
    "from xgboost import XGBClassifier\n",
    "from sklearn.neural_network import MLPClassifier\n",
    "from sklearn.metrics import roc_curve, roc_auc_score,auc\n",
    "\n",
    "random_seed=42\n",
    "import warnings\n",
    "warnings.filterwarnings(\"ignore\")\n"
   ]
  },
  {
   "cell_type": "markdown",
   "id": "b53c02b9",
   "metadata": {},
   "source": [
    "## Step 2:  Data Preprocessing"
   ]
  },
  {
   "cell_type": "markdown",
   "id": "65577bfe",
   "metadata": {},
   "source": [
    "After importing required libraries the next is data preprocessing. \\\n",
    "The following are various steps in data preprocessing stage. \n",
    "\n",
    "1.Load the data set(csv file) into our notebook using pandas library.\\\n",
    "2.We will be checking the various attributes of the dataframe such as dimensions,column names.\\\n",
    "3.Renaming columns if necessary, for a clean analysis and better understanding.\\\n",
    "4.Dropping unnecessary features as they don't contribute in predicting the target variable.\\\n",
    "5.Check for the datatypes of all columns in dataset and if the datatype of categorical variables is   not 'category', change them into 'category' type for faster computations and improved performance. \\\n",
    "6.Check for any missing values(null) in the dataset and drop the rows with missing values in the target variable.\\\n",
    "7.Check for the unique values in the categorical features to have an idea about data imbalancing and address any misspelled words in column values.\\\n",
    "8.Converting categorical data into numerical data using dummy/one hot encoding"
   ]
  },
  {
   "cell_type": "markdown",
   "id": "50c583d5",
   "metadata": {},
   "source": [
    "### Loading the Data"
   ]
  },
  {
   "cell_type": "code",
   "execution_count": 2,
   "id": "aba774b5",
   "metadata": {},
   "outputs": [
    {
     "data": {
      "text/html": [
       "<div>\n",
       "<style scoped>\n",
       "    .dataframe tbody tr th:only-of-type {\n",
       "        vertical-align: middle;\n",
       "    }\n",
       "\n",
       "    .dataframe tbody tr th {\n",
       "        vertical-align: top;\n",
       "    }\n",
       "\n",
       "    .dataframe thead th {\n",
       "        text-align: right;\n",
       "    }\n",
       "</style>\n",
       "<table border=\"1\" class=\"dataframe\">\n",
       "  <thead>\n",
       "    <tr style=\"text-align: right;\">\n",
       "      <th></th>\n",
       "      <th>Administrative</th>\n",
       "      <th>Administrative_Duration</th>\n",
       "      <th>Informational</th>\n",
       "      <th>Informational_Duration</th>\n",
       "      <th>ProductRelated</th>\n",
       "      <th>ProductRelated_Duration</th>\n",
       "      <th>BounceRates</th>\n",
       "      <th>ExitRates</th>\n",
       "      <th>PageValues</th>\n",
       "      <th>SpecialDay</th>\n",
       "      <th>Month</th>\n",
       "      <th>OperatingSystems</th>\n",
       "      <th>Browser</th>\n",
       "      <th>Region</th>\n",
       "      <th>TrafficType</th>\n",
       "      <th>VisitorType</th>\n",
       "      <th>Weekend</th>\n",
       "      <th>Revenue</th>\n",
       "    </tr>\n",
       "  </thead>\n",
       "  <tbody>\n",
       "    <tr>\n",
       "      <th>0</th>\n",
       "      <td>0</td>\n",
       "      <td>0.0</td>\n",
       "      <td>0</td>\n",
       "      <td>0.0</td>\n",
       "      <td>1</td>\n",
       "      <td>0.000000</td>\n",
       "      <td>0.200000</td>\n",
       "      <td>0.200000</td>\n",
       "      <td>0.0</td>\n",
       "      <td>0.0</td>\n",
       "      <td>Feb</td>\n",
       "      <td>1</td>\n",
       "      <td>1</td>\n",
       "      <td>1</td>\n",
       "      <td>1</td>\n",
       "      <td>Returning_Visitor</td>\n",
       "      <td>False</td>\n",
       "      <td>False</td>\n",
       "    </tr>\n",
       "    <tr>\n",
       "      <th>1</th>\n",
       "      <td>0</td>\n",
       "      <td>0.0</td>\n",
       "      <td>0</td>\n",
       "      <td>0.0</td>\n",
       "      <td>2</td>\n",
       "      <td>64.000000</td>\n",
       "      <td>0.000000</td>\n",
       "      <td>0.100000</td>\n",
       "      <td>0.0</td>\n",
       "      <td>0.0</td>\n",
       "      <td>Feb</td>\n",
       "      <td>2</td>\n",
       "      <td>2</td>\n",
       "      <td>1</td>\n",
       "      <td>2</td>\n",
       "      <td>Returning_Visitor</td>\n",
       "      <td>False</td>\n",
       "      <td>False</td>\n",
       "    </tr>\n",
       "    <tr>\n",
       "      <th>2</th>\n",
       "      <td>0</td>\n",
       "      <td>0.0</td>\n",
       "      <td>0</td>\n",
       "      <td>0.0</td>\n",
       "      <td>1</td>\n",
       "      <td>0.000000</td>\n",
       "      <td>0.200000</td>\n",
       "      <td>0.200000</td>\n",
       "      <td>0.0</td>\n",
       "      <td>0.0</td>\n",
       "      <td>Feb</td>\n",
       "      <td>4</td>\n",
       "      <td>1</td>\n",
       "      <td>9</td>\n",
       "      <td>3</td>\n",
       "      <td>Returning_Visitor</td>\n",
       "      <td>False</td>\n",
       "      <td>False</td>\n",
       "    </tr>\n",
       "    <tr>\n",
       "      <th>3</th>\n",
       "      <td>0</td>\n",
       "      <td>0.0</td>\n",
       "      <td>0</td>\n",
       "      <td>0.0</td>\n",
       "      <td>2</td>\n",
       "      <td>2.666667</td>\n",
       "      <td>0.050000</td>\n",
       "      <td>0.140000</td>\n",
       "      <td>0.0</td>\n",
       "      <td>0.0</td>\n",
       "      <td>Feb</td>\n",
       "      <td>3</td>\n",
       "      <td>2</td>\n",
       "      <td>2</td>\n",
       "      <td>4</td>\n",
       "      <td>Returning_Visitor</td>\n",
       "      <td>False</td>\n",
       "      <td>False</td>\n",
       "    </tr>\n",
       "    <tr>\n",
       "      <th>4</th>\n",
       "      <td>0</td>\n",
       "      <td>0.0</td>\n",
       "      <td>0</td>\n",
       "      <td>0.0</td>\n",
       "      <td>10</td>\n",
       "      <td>627.500000</td>\n",
       "      <td>0.020000</td>\n",
       "      <td>0.050000</td>\n",
       "      <td>0.0</td>\n",
       "      <td>0.0</td>\n",
       "      <td>Feb</td>\n",
       "      <td>3</td>\n",
       "      <td>3</td>\n",
       "      <td>1</td>\n",
       "      <td>4</td>\n",
       "      <td>Returning_Visitor</td>\n",
       "      <td>True</td>\n",
       "      <td>False</td>\n",
       "    </tr>\n",
       "    <tr>\n",
       "      <th>5</th>\n",
       "      <td>0</td>\n",
       "      <td>0.0</td>\n",
       "      <td>0</td>\n",
       "      <td>0.0</td>\n",
       "      <td>19</td>\n",
       "      <td>154.216667</td>\n",
       "      <td>0.015789</td>\n",
       "      <td>0.024561</td>\n",
       "      <td>0.0</td>\n",
       "      <td>0.0</td>\n",
       "      <td>Feb</td>\n",
       "      <td>2</td>\n",
       "      <td>2</td>\n",
       "      <td>1</td>\n",
       "      <td>3</td>\n",
       "      <td>Returning_Visitor</td>\n",
       "      <td>False</td>\n",
       "      <td>False</td>\n",
       "    </tr>\n",
       "    <tr>\n",
       "      <th>6</th>\n",
       "      <td>0</td>\n",
       "      <td>0.0</td>\n",
       "      <td>0</td>\n",
       "      <td>0.0</td>\n",
       "      <td>1</td>\n",
       "      <td>0.000000</td>\n",
       "      <td>0.200000</td>\n",
       "      <td>0.200000</td>\n",
       "      <td>0.0</td>\n",
       "      <td>0.4</td>\n",
       "      <td>Feb</td>\n",
       "      <td>2</td>\n",
       "      <td>4</td>\n",
       "      <td>3</td>\n",
       "      <td>3</td>\n",
       "      <td>Returning_Visitor</td>\n",
       "      <td>False</td>\n",
       "      <td>False</td>\n",
       "    </tr>\n",
       "    <tr>\n",
       "      <th>7</th>\n",
       "      <td>1</td>\n",
       "      <td>0.0</td>\n",
       "      <td>0</td>\n",
       "      <td>0.0</td>\n",
       "      <td>0</td>\n",
       "      <td>0.000000</td>\n",
       "      <td>0.200000</td>\n",
       "      <td>0.200000</td>\n",
       "      <td>0.0</td>\n",
       "      <td>0.0</td>\n",
       "      <td>Feb</td>\n",
       "      <td>1</td>\n",
       "      <td>2</td>\n",
       "      <td>1</td>\n",
       "      <td>5</td>\n",
       "      <td>Returning_Visitor</td>\n",
       "      <td>True</td>\n",
       "      <td>False</td>\n",
       "    </tr>\n",
       "    <tr>\n",
       "      <th>8</th>\n",
       "      <td>0</td>\n",
       "      <td>0.0</td>\n",
       "      <td>0</td>\n",
       "      <td>0.0</td>\n",
       "      <td>2</td>\n",
       "      <td>37.000000</td>\n",
       "      <td>0.000000</td>\n",
       "      <td>0.100000</td>\n",
       "      <td>0.0</td>\n",
       "      <td>0.8</td>\n",
       "      <td>Feb</td>\n",
       "      <td>2</td>\n",
       "      <td>2</td>\n",
       "      <td>2</td>\n",
       "      <td>3</td>\n",
       "      <td>Returning_Visitor</td>\n",
       "      <td>False</td>\n",
       "      <td>False</td>\n",
       "    </tr>\n",
       "    <tr>\n",
       "      <th>9</th>\n",
       "      <td>0</td>\n",
       "      <td>0.0</td>\n",
       "      <td>0</td>\n",
       "      <td>0.0</td>\n",
       "      <td>3</td>\n",
       "      <td>738.000000</td>\n",
       "      <td>0.000000</td>\n",
       "      <td>0.022222</td>\n",
       "      <td>0.0</td>\n",
       "      <td>0.4</td>\n",
       "      <td>Feb</td>\n",
       "      <td>2</td>\n",
       "      <td>4</td>\n",
       "      <td>1</td>\n",
       "      <td>2</td>\n",
       "      <td>Returning_Visitor</td>\n",
       "      <td>False</td>\n",
       "      <td>False</td>\n",
       "    </tr>\n",
       "  </tbody>\n",
       "</table>\n",
       "</div>"
      ],
      "text/plain": [
       "   Administrative  Administrative_Duration  Informational  \\\n",
       "0               0                      0.0              0   \n",
       "1               0                      0.0              0   \n",
       "2               0                      0.0              0   \n",
       "3               0                      0.0              0   \n",
       "4               0                      0.0              0   \n",
       "5               0                      0.0              0   \n",
       "6               0                      0.0              0   \n",
       "7               1                      0.0              0   \n",
       "8               0                      0.0              0   \n",
       "9               0                      0.0              0   \n",
       "\n",
       "   Informational_Duration  ProductRelated  ProductRelated_Duration  \\\n",
       "0                     0.0               1                 0.000000   \n",
       "1                     0.0               2                64.000000   \n",
       "2                     0.0               1                 0.000000   \n",
       "3                     0.0               2                 2.666667   \n",
       "4                     0.0              10               627.500000   \n",
       "5                     0.0              19               154.216667   \n",
       "6                     0.0               1                 0.000000   \n",
       "7                     0.0               0                 0.000000   \n",
       "8                     0.0               2                37.000000   \n",
       "9                     0.0               3               738.000000   \n",
       "\n",
       "   BounceRates  ExitRates  PageValues  SpecialDay Month  OperatingSystems  \\\n",
       "0     0.200000   0.200000         0.0         0.0   Feb                 1   \n",
       "1     0.000000   0.100000         0.0         0.0   Feb                 2   \n",
       "2     0.200000   0.200000         0.0         0.0   Feb                 4   \n",
       "3     0.050000   0.140000         0.0         0.0   Feb                 3   \n",
       "4     0.020000   0.050000         0.0         0.0   Feb                 3   \n",
       "5     0.015789   0.024561         0.0         0.0   Feb                 2   \n",
       "6     0.200000   0.200000         0.0         0.4   Feb                 2   \n",
       "7     0.200000   0.200000         0.0         0.0   Feb                 1   \n",
       "8     0.000000   0.100000         0.0         0.8   Feb                 2   \n",
       "9     0.000000   0.022222         0.0         0.4   Feb                 2   \n",
       "\n",
       "   Browser  Region  TrafficType        VisitorType  Weekend  Revenue  \n",
       "0        1       1            1  Returning_Visitor    False    False  \n",
       "1        2       1            2  Returning_Visitor    False    False  \n",
       "2        1       9            3  Returning_Visitor    False    False  \n",
       "3        2       2            4  Returning_Visitor    False    False  \n",
       "4        3       1            4  Returning_Visitor     True    False  \n",
       "5        2       1            3  Returning_Visitor    False    False  \n",
       "6        4       3            3  Returning_Visitor    False    False  \n",
       "7        2       1            5  Returning_Visitor     True    False  \n",
       "8        2       2            3  Returning_Visitor    False    False  \n",
       "9        4       1            2  Returning_Visitor    False    False  "
      ]
     },
     "execution_count": 2,
     "metadata": {},
     "output_type": "execute_result"
    }
   ],
   "source": [
    "#Loading the data from the local machine\n",
    "df=pd.read_csv('C:/Users/dalav/Downloads/online_shoppers_intention_ds.csv')\n",
    "df.head(10)"
   ]
  },
  {
   "cell_type": "markdown",
   "id": "866c70e2",
   "metadata": {},
   "source": [
    "###  Exploring Rows and columns"
   ]
  },
  {
   "cell_type": "markdown",
   "id": "0a2285b5",
   "metadata": {},
   "source": [
    "Checking the dimensions of the dataset."
   ]
  },
  {
   "cell_type": "code",
   "execution_count": 3,
   "id": "3bf469ba",
   "metadata": {},
   "outputs": [
    {
     "data": {
      "text/plain": [
       "(12330, 18)"
      ]
     },
     "execution_count": 3,
     "metadata": {},
     "output_type": "execute_result"
    }
   ],
   "source": [
    "df.shape"
   ]
  },
  {
   "cell_type": "markdown",
   "id": "42936fe3",
   "metadata": {},
   "source": [
    "From the above result,dataset has 12330 observations(rows) with 18 features(columns)."
   ]
  },
  {
   "cell_type": "markdown",
   "id": "fb5e1bbb",
   "metadata": {},
   "source": [
    "###  Renaming columns"
   ]
  },
  {
   "cell_type": "markdown",
   "id": "14b180f5",
   "metadata": {},
   "source": [
    "Checking for column names and rename them if necessary for better understanding."
   ]
  },
  {
   "cell_type": "code",
   "execution_count": 4,
   "id": "9691635f",
   "metadata": {},
   "outputs": [
    {
     "data": {
      "text/plain": [
       "Index(['Administrative', 'Administrative_Duration', 'Informational',\n",
       "       'Informational_Duration', 'ProductRelated', 'ProductRelated_Duration',\n",
       "       'BounceRates', 'ExitRates', 'PageValues', 'SpecialDay', 'Month',\n",
       "       'OperatingSystems', 'Browser', 'Region', 'TrafficType', 'VisitorType',\n",
       "       'Weekend', 'Revenue'],\n",
       "      dtype='object')"
      ]
     },
     "execution_count": 4,
     "metadata": {},
     "output_type": "execute_result"
    }
   ],
   "source": [
    "df.columns #to get the idea about column names"
   ]
  },
  {
   "cell_type": "markdown",
   "id": "acce714d",
   "metadata": {},
   "source": [
    "We can see that all columns are properly named. So there is no need of renaming the column names.\n",
    "\n",
    "If there is any spaces in the column names, we would replace the space with underscore. "
   ]
  },
  {
   "cell_type": "code",
   "execution_count": 5,
   "id": "88ec879a",
   "metadata": {},
   "outputs": [
    {
     "data": {
      "text/html": [
       "<div>\n",
       "<style scoped>\n",
       "    .dataframe tbody tr th:only-of-type {\n",
       "        vertical-align: middle;\n",
       "    }\n",
       "\n",
       "    .dataframe tbody tr th {\n",
       "        vertical-align: top;\n",
       "    }\n",
       "\n",
       "    .dataframe thead th {\n",
       "        text-align: right;\n",
       "    }\n",
       "</style>\n",
       "<table border=\"1\" class=\"dataframe\">\n",
       "  <thead>\n",
       "    <tr style=\"text-align: right;\">\n",
       "      <th></th>\n",
       "      <th>Administrative</th>\n",
       "      <th>Administrative_Duration</th>\n",
       "      <th>Informational</th>\n",
       "      <th>Informational_Duration</th>\n",
       "      <th>ProductRelated</th>\n",
       "      <th>ProductRelated_Duration</th>\n",
       "      <th>BounceRates</th>\n",
       "      <th>ExitRates</th>\n",
       "      <th>PageValues</th>\n",
       "      <th>SpecialDay</th>\n",
       "      <th>OperatingSystems</th>\n",
       "      <th>Browser</th>\n",
       "      <th>Region</th>\n",
       "      <th>TrafficType</th>\n",
       "    </tr>\n",
       "  </thead>\n",
       "  <tbody>\n",
       "    <tr>\n",
       "      <th>count</th>\n",
       "      <td>12330.000000</td>\n",
       "      <td>12330.000000</td>\n",
       "      <td>12330.000000</td>\n",
       "      <td>12330.000000</td>\n",
       "      <td>12330.000000</td>\n",
       "      <td>12330.000000</td>\n",
       "      <td>12330.000000</td>\n",
       "      <td>12330.000000</td>\n",
       "      <td>12330.000000</td>\n",
       "      <td>12330.000000</td>\n",
       "      <td>12330.000000</td>\n",
       "      <td>12330.000000</td>\n",
       "      <td>12330.000000</td>\n",
       "      <td>12330.000000</td>\n",
       "    </tr>\n",
       "    <tr>\n",
       "      <th>mean</th>\n",
       "      <td>2.315166</td>\n",
       "      <td>80.818611</td>\n",
       "      <td>0.503569</td>\n",
       "      <td>34.472398</td>\n",
       "      <td>31.731468</td>\n",
       "      <td>1194.746220</td>\n",
       "      <td>0.022191</td>\n",
       "      <td>0.043073</td>\n",
       "      <td>5.889258</td>\n",
       "      <td>0.061427</td>\n",
       "      <td>2.124006</td>\n",
       "      <td>2.357097</td>\n",
       "      <td>3.147364</td>\n",
       "      <td>4.069586</td>\n",
       "    </tr>\n",
       "    <tr>\n",
       "      <th>std</th>\n",
       "      <td>3.321784</td>\n",
       "      <td>176.779107</td>\n",
       "      <td>1.270156</td>\n",
       "      <td>140.749294</td>\n",
       "      <td>44.475503</td>\n",
       "      <td>1913.669288</td>\n",
       "      <td>0.048488</td>\n",
       "      <td>0.048597</td>\n",
       "      <td>18.568437</td>\n",
       "      <td>0.198917</td>\n",
       "      <td>0.911325</td>\n",
       "      <td>1.717277</td>\n",
       "      <td>2.401591</td>\n",
       "      <td>4.025169</td>\n",
       "    </tr>\n",
       "    <tr>\n",
       "      <th>min</th>\n",
       "      <td>0.000000</td>\n",
       "      <td>0.000000</td>\n",
       "      <td>0.000000</td>\n",
       "      <td>0.000000</td>\n",
       "      <td>0.000000</td>\n",
       "      <td>0.000000</td>\n",
       "      <td>0.000000</td>\n",
       "      <td>0.000000</td>\n",
       "      <td>0.000000</td>\n",
       "      <td>0.000000</td>\n",
       "      <td>1.000000</td>\n",
       "      <td>1.000000</td>\n",
       "      <td>1.000000</td>\n",
       "      <td>1.000000</td>\n",
       "    </tr>\n",
       "    <tr>\n",
       "      <th>25%</th>\n",
       "      <td>0.000000</td>\n",
       "      <td>0.000000</td>\n",
       "      <td>0.000000</td>\n",
       "      <td>0.000000</td>\n",
       "      <td>7.000000</td>\n",
       "      <td>184.137500</td>\n",
       "      <td>0.000000</td>\n",
       "      <td>0.014286</td>\n",
       "      <td>0.000000</td>\n",
       "      <td>0.000000</td>\n",
       "      <td>2.000000</td>\n",
       "      <td>2.000000</td>\n",
       "      <td>1.000000</td>\n",
       "      <td>2.000000</td>\n",
       "    </tr>\n",
       "    <tr>\n",
       "      <th>50%</th>\n",
       "      <td>1.000000</td>\n",
       "      <td>7.500000</td>\n",
       "      <td>0.000000</td>\n",
       "      <td>0.000000</td>\n",
       "      <td>18.000000</td>\n",
       "      <td>598.936905</td>\n",
       "      <td>0.003112</td>\n",
       "      <td>0.025156</td>\n",
       "      <td>0.000000</td>\n",
       "      <td>0.000000</td>\n",
       "      <td>2.000000</td>\n",
       "      <td>2.000000</td>\n",
       "      <td>3.000000</td>\n",
       "      <td>2.000000</td>\n",
       "    </tr>\n",
       "    <tr>\n",
       "      <th>75%</th>\n",
       "      <td>4.000000</td>\n",
       "      <td>93.256250</td>\n",
       "      <td>0.000000</td>\n",
       "      <td>0.000000</td>\n",
       "      <td>38.000000</td>\n",
       "      <td>1464.157214</td>\n",
       "      <td>0.016813</td>\n",
       "      <td>0.050000</td>\n",
       "      <td>0.000000</td>\n",
       "      <td>0.000000</td>\n",
       "      <td>3.000000</td>\n",
       "      <td>2.000000</td>\n",
       "      <td>4.000000</td>\n",
       "      <td>4.000000</td>\n",
       "    </tr>\n",
       "    <tr>\n",
       "      <th>max</th>\n",
       "      <td>27.000000</td>\n",
       "      <td>3398.750000</td>\n",
       "      <td>24.000000</td>\n",
       "      <td>2549.375000</td>\n",
       "      <td>705.000000</td>\n",
       "      <td>63973.522230</td>\n",
       "      <td>0.200000</td>\n",
       "      <td>0.200000</td>\n",
       "      <td>361.763742</td>\n",
       "      <td>1.000000</td>\n",
       "      <td>8.000000</td>\n",
       "      <td>13.000000</td>\n",
       "      <td>9.000000</td>\n",
       "      <td>20.000000</td>\n",
       "    </tr>\n",
       "  </tbody>\n",
       "</table>\n",
       "</div>"
      ],
      "text/plain": [
       "       Administrative  Administrative_Duration  Informational  \\\n",
       "count    12330.000000             12330.000000   12330.000000   \n",
       "mean         2.315166                80.818611       0.503569   \n",
       "std          3.321784               176.779107       1.270156   \n",
       "min          0.000000                 0.000000       0.000000   \n",
       "25%          0.000000                 0.000000       0.000000   \n",
       "50%          1.000000                 7.500000       0.000000   \n",
       "75%          4.000000                93.256250       0.000000   \n",
       "max         27.000000              3398.750000      24.000000   \n",
       "\n",
       "       Informational_Duration  ProductRelated  ProductRelated_Duration  \\\n",
       "count            12330.000000    12330.000000             12330.000000   \n",
       "mean                34.472398       31.731468              1194.746220   \n",
       "std                140.749294       44.475503              1913.669288   \n",
       "min                  0.000000        0.000000                 0.000000   \n",
       "25%                  0.000000        7.000000               184.137500   \n",
       "50%                  0.000000       18.000000               598.936905   \n",
       "75%                  0.000000       38.000000              1464.157214   \n",
       "max               2549.375000      705.000000             63973.522230   \n",
       "\n",
       "        BounceRates     ExitRates    PageValues    SpecialDay  \\\n",
       "count  12330.000000  12330.000000  12330.000000  12330.000000   \n",
       "mean       0.022191      0.043073      5.889258      0.061427   \n",
       "std        0.048488      0.048597     18.568437      0.198917   \n",
       "min        0.000000      0.000000      0.000000      0.000000   \n",
       "25%        0.000000      0.014286      0.000000      0.000000   \n",
       "50%        0.003112      0.025156      0.000000      0.000000   \n",
       "75%        0.016813      0.050000      0.000000      0.000000   \n",
       "max        0.200000      0.200000    361.763742      1.000000   \n",
       "\n",
       "       OperatingSystems       Browser        Region   TrafficType  \n",
       "count      12330.000000  12330.000000  12330.000000  12330.000000  \n",
       "mean           2.124006      2.357097      3.147364      4.069586  \n",
       "std            0.911325      1.717277      2.401591      4.025169  \n",
       "min            1.000000      1.000000      1.000000      1.000000  \n",
       "25%            2.000000      2.000000      1.000000      2.000000  \n",
       "50%            2.000000      2.000000      3.000000      2.000000  \n",
       "75%            3.000000      2.000000      4.000000      4.000000  \n",
       "max            8.000000     13.000000      9.000000     20.000000  "
      ]
     },
     "execution_count": 5,
     "metadata": {},
     "output_type": "execute_result"
    }
   ],
   "source": [
    "# Exploring the dataset\n",
    "df.describe()"
   ]
  },
  {
   "cell_type": "markdown",
   "id": "eb960d65",
   "metadata": {},
   "source": [
    "### Dropping unnecessary columns"
   ]
  },
  {
   "cell_type": "markdown",
   "id": "dde93a83",
   "metadata": {},
   "source": [
    "After carefully examining the dataset, we found that every column is useful in predicting the target variable.There are no unnecessary columns in our dataset. Therefore no columns are dropped from dataset."
   ]
  },
  {
   "cell_type": "markdown",
   "id": "00dfbe07",
   "metadata": {},
   "source": [
    "### Check for datatype of categorical variables\n",
    "\n",
    "In this section we check for datatype of columns(especially the categorical variables) and if datatype of categorical variable is 'object' we change it to 'category' for faster computations and improved performace of our model."
   ]
  },
  {
   "cell_type": "code",
   "execution_count": 6,
   "id": "bfcab233",
   "metadata": {},
   "outputs": [
    {
     "data": {
      "text/plain": [
       "Administrative               int64\n",
       "Administrative_Duration    float64\n",
       "Informational                int64\n",
       "Informational_Duration     float64\n",
       "ProductRelated               int64\n",
       "ProductRelated_Duration    float64\n",
       "BounceRates                float64\n",
       "ExitRates                  float64\n",
       "PageValues                 float64\n",
       "SpecialDay                 float64\n",
       "Month                       object\n",
       "OperatingSystems             int64\n",
       "Browser                      int64\n",
       "Region                       int64\n",
       "TrafficType                  int64\n",
       "VisitorType                 object\n",
       "Weekend                       bool\n",
       "Revenue                       bool\n",
       "dtype: object"
      ]
     },
     "execution_count": 6,
     "metadata": {},
     "output_type": "execute_result"
    }
   ],
   "source": [
    "df.dtypes"
   ]
  },
  {
   "cell_type": "markdown",
   "id": "1cc76559",
   "metadata": {},
   "source": [
    "VisitorType and Month are categorical columns with datatype as object. So we change their datatype to category"
   ]
  },
  {
   "cell_type": "code",
   "execution_count": 7,
   "id": "a3a99baf",
   "metadata": {},
   "outputs": [
    {
     "name": "stdout",
     "output_type": "stream",
     "text": [
      "object\n",
      "Index(['New_Visitor', 'Other', 'Returning_Visitor'], dtype='object')\n",
      "category\n"
     ]
    }
   ],
   "source": [
    "print(df.VisitorType.dtype) # double checking and confirming that the column is an 'object' type\n",
    "df.VisitorType = df.VisitorType.astype('category') # changing the column type to a categorical variable\n",
    "print(df.VisitorType.cat.categories)  # Printing the categories found\n",
    "print(df.VisitorType.dtype)  # confirming that the column type has been changed to categorical"
   ]
  },
  {
   "cell_type": "code",
   "execution_count": 8,
   "id": "38b4f0a5",
   "metadata": {},
   "outputs": [
    {
     "name": "stdout",
     "output_type": "stream",
     "text": [
      "object\n",
      "Index(['Aug', 'Dec', 'Feb', 'Jul', 'June', 'Mar', 'May', 'Nov', 'Oct', 'Sep'], dtype='object')\n",
      "category\n"
     ]
    }
   ],
   "source": [
    "print(df.Month.dtype) # double checking and confirming that the column is an 'object' type\n",
    "df.Month = df.Month.astype('category') # changing the column type to a categorical variable\n",
    "print(df.Month.cat.categories)  # Printing the categories found\n",
    "print(df.Month.dtype)  # confirming that the column type has been changed to categorical"
   ]
  },
  {
   "cell_type": "markdown",
   "id": "c4aebe7b",
   "metadata": {},
   "source": [
    "###  Checking for missing values"
   ]
  },
  {
   "cell_type": "markdown",
   "id": "0fdb478a",
   "metadata": {},
   "source": [
    "Checking for any missing values to know the integrity of the data."
   ]
  },
  {
   "cell_type": "code",
   "execution_count": 9,
   "id": "6ad36c87",
   "metadata": {},
   "outputs": [
    {
     "data": {
      "text/plain": [
       "Administrative             0\n",
       "Administrative_Duration    0\n",
       "Informational              0\n",
       "Informational_Duration     0\n",
       "ProductRelated             0\n",
       "ProductRelated_Duration    0\n",
       "BounceRates                0\n",
       "ExitRates                  0\n",
       "PageValues                 0\n",
       "SpecialDay                 0\n",
       "Month                      0\n",
       "OperatingSystems           0\n",
       "Browser                    0\n",
       "Region                     0\n",
       "TrafficType                0\n",
       "VisitorType                0\n",
       "Weekend                    0\n",
       "Revenue                    0\n",
       "dtype: int64"
      ]
     },
     "execution_count": 9,
     "metadata": {},
     "output_type": "execute_result"
    }
   ],
   "source": [
    "df.isna().sum()"
   ]
  },
  {
   "cell_type": "markdown",
   "id": "a8c6be05",
   "metadata": {},
   "source": [
    "From the above results we can say that there are no missing values in the dataset. We can say the quality of our dataset is good."
   ]
  },
  {
   "cell_type": "markdown",
   "id": "10dcf275",
   "metadata": {},
   "source": [
    "If there are any missing(null) values the following are the steps to be followed.\\\n",
    "1.Check if null values are present in target variable and drop corresponding observations if present.\n",
    "\n",
    "(df = df.dropna(subset=['Revenue'])\n",
    "\n",
    "2.Drop the observations if the number of missing values in a row/column is greater than assumed threshold value.\n",
    "\n",
    "(df = df.dropna(axis=1, thresh=int(0.60*df.shape[0])) #axis=1 -column and axis=0 -row. 0.6 is the threshold value which means column/row is dropped if it has less than 60% non null values .)"
   ]
  },
  {
   "cell_type": "markdown",
   "id": "8fa114be",
   "metadata": {},
   "source": [
    "### Checking unique values and misspelled words\n",
    "\n",
    "In this section we check for unique values for some of columns using unique() method and see if there are any misspell words in columns./"
   ]
  },
  {
   "cell_type": "code",
   "execution_count": 10,
   "id": "bb5ac46d",
   "metadata": {},
   "outputs": [
    {
     "data": {
      "text/plain": [
       "['Returning_Visitor', 'New_Visitor', 'Other']\n",
       "Categories (3, object): ['New_Visitor', 'Other', 'Returning_Visitor']"
      ]
     },
     "execution_count": 10,
     "metadata": {},
     "output_type": "execute_result"
    }
   ],
   "source": [
    "df.VisitorType.unique()"
   ]
  },
  {
   "cell_type": "code",
   "execution_count": 11,
   "id": "5d529818",
   "metadata": {},
   "outputs": [
    {
     "data": {
      "text/plain": [
       "Returning_Visitor    10551\n",
       "New_Visitor           1694\n",
       "Other                   85\n",
       "Name: VisitorType, dtype: int64"
      ]
     },
     "execution_count": 11,
     "metadata": {},
     "output_type": "execute_result"
    }
   ],
   "source": [
    "df.VisitorType.value_counts()"
   ]
  },
  {
   "cell_type": "code",
   "execution_count": 12,
   "id": "8d73433f",
   "metadata": {},
   "outputs": [
    {
     "data": {
      "text/plain": [
       "array([False,  True])"
      ]
     },
     "execution_count": 12,
     "metadata": {},
     "output_type": "execute_result"
    }
   ],
   "source": [
    "df.Weekend.unique()"
   ]
  },
  {
   "cell_type": "code",
   "execution_count": 13,
   "id": "04aee973",
   "metadata": {},
   "outputs": [
    {
     "data": {
      "text/plain": [
       "False    9462\n",
       "True     2868\n",
       "Name: Weekend, dtype: int64"
      ]
     },
     "execution_count": 13,
     "metadata": {},
     "output_type": "execute_result"
    }
   ],
   "source": [
    "df.Weekend.value_counts()"
   ]
  },
  {
   "cell_type": "code",
   "execution_count": 14,
   "id": "819b23f0",
   "metadata": {},
   "outputs": [
    {
     "data": {
      "text/plain": [
       "['Feb', 'Mar', 'May', 'Oct', 'June', 'Jul', 'Aug', 'Nov', 'Sep', 'Dec']\n",
       "Categories (10, object): ['Aug', 'Dec', 'Feb', 'Jul', ..., 'May', 'Nov', 'Oct', 'Sep']"
      ]
     },
     "execution_count": 14,
     "metadata": {},
     "output_type": "execute_result"
    }
   ],
   "source": [
    "df.Month.unique()"
   ]
  },
  {
   "cell_type": "code",
   "execution_count": 15,
   "id": "380bb816",
   "metadata": {},
   "outputs": [
    {
     "data": {
      "text/plain": [
       "May     3364\n",
       "Nov     2998\n",
       "Mar     1907\n",
       "Dec     1727\n",
       "Oct      549\n",
       "Sep      448\n",
       "Aug      433\n",
       "Jul      432\n",
       "June     288\n",
       "Feb      184\n",
       "Name: Month, dtype: int64"
      ]
     },
     "execution_count": 15,
     "metadata": {},
     "output_type": "execute_result"
    }
   ],
   "source": [
    "df.Month.value_counts()"
   ]
  },
  {
   "cell_type": "code",
   "execution_count": 16,
   "id": "c8469d05",
   "metadata": {},
   "outputs": [
    {
     "data": {
      "text/plain": [
       "array([False,  True])"
      ]
     },
     "execution_count": 16,
     "metadata": {},
     "output_type": "execute_result"
    }
   ],
   "source": [
    "df.Revenue.unique()"
   ]
  },
  {
   "cell_type": "code",
   "execution_count": 17,
   "id": "9fe3543a",
   "metadata": {},
   "outputs": [
    {
     "data": {
      "text/plain": [
       "False    10422\n",
       "True      1908\n",
       "Name: Revenue, dtype: int64"
      ]
     },
     "execution_count": 17,
     "metadata": {},
     "output_type": "execute_result"
    }
   ],
   "source": [
    "df.Revenue.value_counts()"
   ]
  },
  {
   "cell_type": "markdown",
   "id": "4c92de2e",
   "metadata": {},
   "source": [
    "### Dummy Encoding the categorical variable"
   ]
  },
  {
   "cell_type": "markdown",
   "id": "81c0b90c",
   "metadata": {},
   "source": [
    "In this section we convert categorical data to numerical data using dummy encoding. By encoding, all the categorical data is converted to 0s and 1s so that the model can understand them."
   ]
  },
  {
   "cell_type": "code",
   "execution_count": 19,
   "id": "3b2bee0a",
   "metadata": {},
   "outputs": [],
   "source": [
    "df = pd.get_dummies(\n",
    "    df, \n",
    "    prefix_sep='_', \n",
    "    dummy_na=False, \n",
    "    drop_first=True, \n",
    "    columns=['Weekend'], \n",
    "    dtype='int32'\n",
    ")\n"
   ]
  },
  {
   "cell_type": "code",
   "execution_count": 20,
   "id": "d850486c",
   "metadata": {},
   "outputs": [],
   "source": [
    "df = pd.get_dummies(\n",
    "    df, \n",
    "    prefix_sep='_', \n",
    "    dummy_na=False, \n",
    "    drop_first=False, \n",
    "    columns=['Month'], \n",
    "    dtype='int32'\n",
    ")\n"
   ]
  },
  {
   "cell_type": "code",
   "execution_count": 21,
   "id": "5bc72778",
   "metadata": {},
   "outputs": [],
   "source": [
    "df = pd.get_dummies(\n",
    "    df, \n",
    "    prefix_sep='_', \n",
    "    dummy_na=False, \n",
    "    drop_first=True, \n",
    "    columns=['VisitorType'], \n",
    "    dtype='int32'\n",
    ")\n"
   ]
  },
  {
   "cell_type": "code",
   "execution_count": 18,
   "id": "4cf530d4",
   "metadata": {},
   "outputs": [],
   "source": [
    "df = pd.get_dummies(\n",
    "    df, \n",
    "    prefix_sep='_', \n",
    "    dummy_na=False, \n",
    "    drop_first=True, \n",
    "    columns=['Revenue'], \n",
    "    dtype='int32'\n",
    ")\n"
   ]
  },
  {
   "cell_type": "code",
   "execution_count": 22,
   "id": "38174858",
   "metadata": {
    "scrolled": true
   },
   "outputs": [
    {
     "data": {
      "text/html": [
       "<div>\n",
       "<style scoped>\n",
       "    .dataframe tbody tr th:only-of-type {\n",
       "        vertical-align: middle;\n",
       "    }\n",
       "\n",
       "    .dataframe tbody tr th {\n",
       "        vertical-align: top;\n",
       "    }\n",
       "\n",
       "    .dataframe thead th {\n",
       "        text-align: right;\n",
       "    }\n",
       "</style>\n",
       "<table border=\"1\" class=\"dataframe\">\n",
       "  <thead>\n",
       "    <tr style=\"text-align: right;\">\n",
       "      <th></th>\n",
       "      <th>Administrative</th>\n",
       "      <th>Administrative_Duration</th>\n",
       "      <th>Informational</th>\n",
       "      <th>Informational_Duration</th>\n",
       "      <th>ProductRelated</th>\n",
       "      <th>ProductRelated_Duration</th>\n",
       "      <th>BounceRates</th>\n",
       "      <th>ExitRates</th>\n",
       "      <th>PageValues</th>\n",
       "      <th>SpecialDay</th>\n",
       "      <th>...</th>\n",
       "      <th>Month_Feb</th>\n",
       "      <th>Month_Jul</th>\n",
       "      <th>Month_June</th>\n",
       "      <th>Month_Mar</th>\n",
       "      <th>Month_May</th>\n",
       "      <th>Month_Nov</th>\n",
       "      <th>Month_Oct</th>\n",
       "      <th>Month_Sep</th>\n",
       "      <th>VisitorType_Other</th>\n",
       "      <th>VisitorType_Returning_Visitor</th>\n",
       "    </tr>\n",
       "  </thead>\n",
       "  <tbody>\n",
       "    <tr>\n",
       "      <th>0</th>\n",
       "      <td>0</td>\n",
       "      <td>0.0</td>\n",
       "      <td>0</td>\n",
       "      <td>0.0</td>\n",
       "      <td>1</td>\n",
       "      <td>0.000000</td>\n",
       "      <td>0.20</td>\n",
       "      <td>0.20</td>\n",
       "      <td>0.0</td>\n",
       "      <td>0.0</td>\n",
       "      <td>...</td>\n",
       "      <td>1</td>\n",
       "      <td>0</td>\n",
       "      <td>0</td>\n",
       "      <td>0</td>\n",
       "      <td>0</td>\n",
       "      <td>0</td>\n",
       "      <td>0</td>\n",
       "      <td>0</td>\n",
       "      <td>0</td>\n",
       "      <td>1</td>\n",
       "    </tr>\n",
       "    <tr>\n",
       "      <th>1</th>\n",
       "      <td>0</td>\n",
       "      <td>0.0</td>\n",
       "      <td>0</td>\n",
       "      <td>0.0</td>\n",
       "      <td>2</td>\n",
       "      <td>64.000000</td>\n",
       "      <td>0.00</td>\n",
       "      <td>0.10</td>\n",
       "      <td>0.0</td>\n",
       "      <td>0.0</td>\n",
       "      <td>...</td>\n",
       "      <td>1</td>\n",
       "      <td>0</td>\n",
       "      <td>0</td>\n",
       "      <td>0</td>\n",
       "      <td>0</td>\n",
       "      <td>0</td>\n",
       "      <td>0</td>\n",
       "      <td>0</td>\n",
       "      <td>0</td>\n",
       "      <td>1</td>\n",
       "    </tr>\n",
       "    <tr>\n",
       "      <th>2</th>\n",
       "      <td>0</td>\n",
       "      <td>0.0</td>\n",
       "      <td>0</td>\n",
       "      <td>0.0</td>\n",
       "      <td>1</td>\n",
       "      <td>0.000000</td>\n",
       "      <td>0.20</td>\n",
       "      <td>0.20</td>\n",
       "      <td>0.0</td>\n",
       "      <td>0.0</td>\n",
       "      <td>...</td>\n",
       "      <td>1</td>\n",
       "      <td>0</td>\n",
       "      <td>0</td>\n",
       "      <td>0</td>\n",
       "      <td>0</td>\n",
       "      <td>0</td>\n",
       "      <td>0</td>\n",
       "      <td>0</td>\n",
       "      <td>0</td>\n",
       "      <td>1</td>\n",
       "    </tr>\n",
       "    <tr>\n",
       "      <th>3</th>\n",
       "      <td>0</td>\n",
       "      <td>0.0</td>\n",
       "      <td>0</td>\n",
       "      <td>0.0</td>\n",
       "      <td>2</td>\n",
       "      <td>2.666667</td>\n",
       "      <td>0.05</td>\n",
       "      <td>0.14</td>\n",
       "      <td>0.0</td>\n",
       "      <td>0.0</td>\n",
       "      <td>...</td>\n",
       "      <td>1</td>\n",
       "      <td>0</td>\n",
       "      <td>0</td>\n",
       "      <td>0</td>\n",
       "      <td>0</td>\n",
       "      <td>0</td>\n",
       "      <td>0</td>\n",
       "      <td>0</td>\n",
       "      <td>0</td>\n",
       "      <td>1</td>\n",
       "    </tr>\n",
       "    <tr>\n",
       "      <th>4</th>\n",
       "      <td>0</td>\n",
       "      <td>0.0</td>\n",
       "      <td>0</td>\n",
       "      <td>0.0</td>\n",
       "      <td>10</td>\n",
       "      <td>627.500000</td>\n",
       "      <td>0.02</td>\n",
       "      <td>0.05</td>\n",
       "      <td>0.0</td>\n",
       "      <td>0.0</td>\n",
       "      <td>...</td>\n",
       "      <td>1</td>\n",
       "      <td>0</td>\n",
       "      <td>0</td>\n",
       "      <td>0</td>\n",
       "      <td>0</td>\n",
       "      <td>0</td>\n",
       "      <td>0</td>\n",
       "      <td>0</td>\n",
       "      <td>0</td>\n",
       "      <td>1</td>\n",
       "    </tr>\n",
       "  </tbody>\n",
       "</table>\n",
       "<p>5 rows × 28 columns</p>\n",
       "</div>"
      ],
      "text/plain": [
       "   Administrative  Administrative_Duration  Informational  \\\n",
       "0               0                      0.0              0   \n",
       "1               0                      0.0              0   \n",
       "2               0                      0.0              0   \n",
       "3               0                      0.0              0   \n",
       "4               0                      0.0              0   \n",
       "\n",
       "   Informational_Duration  ProductRelated  ProductRelated_Duration  \\\n",
       "0                     0.0               1                 0.000000   \n",
       "1                     0.0               2                64.000000   \n",
       "2                     0.0               1                 0.000000   \n",
       "3                     0.0               2                 2.666667   \n",
       "4                     0.0              10               627.500000   \n",
       "\n",
       "   BounceRates  ExitRates  PageValues  SpecialDay  ...  Month_Feb  Month_Jul  \\\n",
       "0         0.20       0.20         0.0         0.0  ...          1          0   \n",
       "1         0.00       0.10         0.0         0.0  ...          1          0   \n",
       "2         0.20       0.20         0.0         0.0  ...          1          0   \n",
       "3         0.05       0.14         0.0         0.0  ...          1          0   \n",
       "4         0.02       0.05         0.0         0.0  ...          1          0   \n",
       "\n",
       "   Month_June  Month_Mar  Month_May  Month_Nov  Month_Oct  Month_Sep  \\\n",
       "0           0          0          0          0          0          0   \n",
       "1           0          0          0          0          0          0   \n",
       "2           0          0          0          0          0          0   \n",
       "3           0          0          0          0          0          0   \n",
       "4           0          0          0          0          0          0   \n",
       "\n",
       "   VisitorType_Other  VisitorType_Returning_Visitor  \n",
       "0                  0                              1  \n",
       "1                  0                              1  \n",
       "2                  0                              1  \n",
       "3                  0                              1  \n",
       "4                  0                              1  \n",
       "\n",
       "[5 rows x 28 columns]"
      ]
     },
     "execution_count": 22,
     "metadata": {},
     "output_type": "execute_result"
    }
   ],
   "source": [
    "df.head()"
   ]
  },
  {
   "cell_type": "code",
   "execution_count": 136,
   "id": "c2af16ad",
   "metadata": {},
   "outputs": [
    {
     "data": {
      "text/plain": [
       "Index(['Administrative', 'Administrative_Duration', 'Informational',\n",
       "       'Informational_Duration', 'ProductRelated', 'ProductRelated_Duration',\n",
       "       'BounceRates', 'ExitRates', 'PageValues', 'SpecialDay',\n",
       "       'OperatingSystems', 'Browser', 'Region', 'TrafficType', 'Revenue_True',\n",
       "       'Weekend_True', 'Month_Aug', 'Month_Dec', 'Month_Feb', 'Month_Jul',\n",
       "       'Month_June', 'Month_Mar', 'Month_May', 'Month_Nov', 'Month_Oct',\n",
       "       'Month_Sep', 'VisitorType_Other', 'VisitorType_Returning_Visitor'],\n",
       "      dtype='object')"
      ]
     },
     "execution_count": 136,
     "metadata": {},
     "output_type": "execute_result"
    }
   ],
   "source": [
    "df.columns"
   ]
  },
  {
   "cell_type": "code",
   "execution_count": 23,
   "id": "3c220bc8",
   "metadata": {},
   "outputs": [
    {
     "data": {
      "text/plain": [
       "(12330, 28)"
      ]
     },
     "execution_count": 23,
     "metadata": {},
     "output_type": "execute_result"
    }
   ],
   "source": [
    "df.shape"
   ]
  },
  {
   "cell_type": "markdown",
   "id": "8f272124",
   "metadata": {},
   "source": [
    "We can observe that number of columns increased to 28 as we have encoded that categorical columns."
   ]
  },
  {
   "cell_type": "markdown",
   "id": "7191e2e1",
   "metadata": {},
   "source": [
    "### Identifying input and target variables"
   ]
  },
  {
   "cell_type": "markdown",
   "id": "dc4acdbe",
   "metadata": {},
   "source": [
    "In this section we identify all our input features and target varibales so that it can be helpful for train test split"
   ]
  },
  {
   "cell_type": "code",
   "execution_count": 24,
   "id": "5d7575cb",
   "metadata": {},
   "outputs": [],
   "source": [
    "input_features=df.drop(columns=['Revenue_True'])\n",
    "target=df['Revenue_True']"
   ]
  },
  {
   "cell_type": "markdown",
   "id": "66f2a1b4",
   "metadata": {},
   "source": [
    "'input_features' contains all independent variables which has all columns except 'Revenue_True' and 'target' is our target variable"
   ]
  },
  {
   "cell_type": "markdown",
   "id": "13fa46fb",
   "metadata": {},
   "source": [
    "### Splitting the Data"
   ]
  },
  {
   "cell_type": "markdown",
   "id": "2c01351a",
   "metadata": {},
   "source": [
    "In this section we will be splitting the data into train and test data to train and validate our model respectively.Here the test size is 0.3 (30%) of the data and train size is 0.7 (70%).\n",
    "\n",
    "Since the Dataset is sufficiently large we will chose train size as 0.7(70%) of the data to train the model.\n",
    "\n",
    "Always training data is given more weightage because this is where the model learns patterns, relationships, and dependencies in the data. The model \"fits\" to the training data, adjusting its parameters (weights) to minimize the difference between its predictions and the actual target values. The training data is of utmost importance because it directly influences the model's performance.so that the model can be trained well and predictions can be made accurately.\n",
    "\n",
    "Usually train data is given more weight so that model can be trained sufficiently."
   ]
  },
  {
   "cell_type": "code",
   "execution_count": 25,
   "id": "b0e1513d",
   "metadata": {},
   "outputs": [],
   "source": [
    "X_train, X_test, y_train, y_test = train_test_split(input_features, target, test_size=0.3, random_state=42)"
   ]
  },
  {
   "cell_type": "markdown",
   "id": "f9b13704",
   "metadata": {},
   "source": [
    "Checking the split data shapes"
   ]
  },
  {
   "cell_type": "code",
   "execution_count": 26,
   "id": "82df39e6",
   "metadata": {},
   "outputs": [
    {
     "name": "stdout",
     "output_type": "stream",
     "text": [
      "X train shape: (8631, 27)\n",
      "y train shape: (8631,)\n",
      "X test shape: (3699, 27)\n",
      "Y train shape: (3699,)\n"
     ]
    }
   ],
   "source": [
    "print('X train shape:', X_train.shape)\n",
    "print('y train shape:', y_train.shape)\n",
    "print('X test shape:', X_test.shape)\n",
    "print('Y train shape:', y_test.shape)"
   ]
  },
  {
   "cell_type": "markdown",
   "id": "12898f5d",
   "metadata": {},
   "source": [
    "## Imputing the missing values"
   ]
  },
  {
   "cell_type": "markdown",
   "id": "9c32bbea",
   "metadata": {},
   "source": [
    "After train-test-split, next step is imputing missing values.\n",
    "\n",
    "For numeric columns, we calculate the mean value and using the mean value we fill the missing values of those columns. \n",
    "\n",
    "For the dummy variable columns, we use the mode value  to impute the missing values. \n",
    "\n",
    "Since we don't have any missing values in the dataset there is no need for any imputation."
   ]
  },
  {
   "cell_type": "markdown",
   "id": "a3a7e904",
   "metadata": {},
   "source": [
    "## Scaling the data"
   ]
  },
  {
   "cell_type": "markdown",
   "id": "b992d725",
   "metadata": {},
   "source": [
    "After imputing, next step is scaling of data so that data across the dataset stands on a uniform scale for accurate analysis.\n",
    "\n",
    "Scaling is performed using standardscaler function."
   ]
  },
  {
   "cell_type": "code",
   "execution_count": 27,
   "id": "2feff646",
   "metadata": {},
   "outputs": [],
   "source": [
    "scaler = StandardScaler()\n",
    "scaler.fit(X_train)\n",
    "X_train = scaler.transform(X_train)\n",
    "X_test= scaler.transform(X_test)\n"
   ]
  },
  {
   "cell_type": "markdown",
   "id": "e3d8b8a1",
   "metadata": {},
   "source": [
    "### Checking for Data Imbalance and Adressing it\n",
    "\n",
    "Before fitting the model we need to check if there is any data imbalance in the dataset and if there is any we address it using techniques like under sampling, over sampling , SMOTE etc."
   ]
  },
  {
   "cell_type": "code",
   "execution_count": 28,
   "id": "fa070160",
   "metadata": {
    "scrolled": true
   },
   "outputs": [
    {
     "data": {
      "text/plain": [
       "0    10422\n",
       "1     1908\n",
       "Name: Revenue_True, dtype: int64"
      ]
     },
     "execution_count": 28,
     "metadata": {},
     "output_type": "execute_result"
    }
   ],
   "source": [
    "df.Revenue_True.value_counts()"
   ]
  },
  {
   "cell_type": "markdown",
   "id": "925d93a7",
   "metadata": {},
   "source": [
    "Revenue_True is our target variable which has 2 classes 0 and 1.\n",
    "\n",
    "There are 10422 observations with class 0 and 1908 observations with class 1.\\\n",
    "Class 0 means no revenue generated - majority class\\\n",
    "Class 1 means revenue generated    - minority class\n",
    "\n",
    "So there is clearly data imbalance between classes in the target variable."
   ]
  },
  {
   "cell_type": "markdown",
   "id": "bde638dd",
   "metadata": {},
   "source": [
    "**To address the data imbalance we decided to use SMOTE sampling technique. The reason why we chose SMOTE is**\n",
    "\n",
    "1.SMOTE often leads to better model performance compared to simple oversampling or undersampling. It helps the model learn the underlying patterns more effectively.\n",
    "\n",
    "2.SMOTE creates a balanced dataset, allowing the model to learn from both classes more evenly. This can lead to better classification results and prevent the model from being biased toward the majority class.\n",
    "\n",
    "3.SMOTE doesn't discard any data, unlike undersampling, which removes data points from the majority class. This means you can use all your available data for training"
   ]
  },
  {
   "cell_type": "markdown",
   "id": "dfdf9d10",
   "metadata": {},
   "source": [
    "### SMOTE Sampling Technique"
   ]
  },
  {
   "cell_type": "code",
   "execution_count": 29,
   "id": "062f1512",
   "metadata": {},
   "outputs": [],
   "source": [
    "smote = SMOTE(random_state=42)\n",
    "X_smote, y_smote = smote.fit_resample(X_train, y_train)"
   ]
  },
  {
   "cell_type": "markdown",
   "id": "52a51f7d",
   "metadata": {},
   "source": [
    "## Step 3: MODEL FITTING\n",
    "\n",
    "In this section we fit our dataset using various supervised machine learning algorithms and evaluate their performance using various evaluation metrics. Some of the models we use are\n",
    "\n",
    "1.Logistic Regression \\\n",
    "2.KNN\\\n",
    "3.Decision Trees\\\n",
    "4.Support Vector Classifier\\\n",
    "5.Random Forest\\\n",
    "6.ADA Boost\\\n",
    "7.Gradient Boost\\\n",
    "8.XGBoost\\\n",
    "9.Neural Networks\n",
    "\n",
    "We will fit our model and evaluate the model performance in 2 ways.\\\n",
    "1.Without hyper parameter tuning\\\n",
    "2.With hyper parameter tuning"
   ]
  },
  {
   "cell_type": "markdown",
   "id": "13d45966",
   "metadata": {},
   "source": [
    "### Hyper Parameter Tuning \n",
    "\n",
    "We will also explore the process of hyperparameter tuning for our model. Hyperparameter tuning is essential for optimizing the performance of the model. We will focus on finding the best combination of hyperparameters to achieve better performance of model.\n",
    "\n",
    "#### Tuning Process\n",
    "\n",
    "The hyperparameter tuning process generally involves the following steps:\n",
    "\n",
    "1.Define the hyperparameters and their ranges to be tuned.\\\n",
    "2.Select the search method (Grid Search or Random Search).\\\n",
    "3.Perform cross-validation to evaluate each combination of hyperparameters.\\\n",
    "4.Identify the best combination that optimizes model performance.\n",
    "\n",
    "\n",
    "#### Grid Search or Random Search\n",
    "\n",
    "There are two common methods for hyperparameter tuning: Grid Search and Random Search.\n",
    "\n",
    "**Grid Search**: Grid Search exhaustively searches all possible combinations of hyperparameters within predefined ranges. It's a systematic but computationally expensive approach.\n",
    "\n",
    "**Random Search**: Random Search randomly samples combinations of hyperparameters within predefined ranges. It's more efficient for large search spaces.\n",
    "\n",
    "We apply both search methods to our dataset.\n",
    "\n",
    "#### Cross-Validation\n",
    "\n",
    "To assess the performance of different hyperparameter combinations, we will use cross-validation. Cross-validation helps us estimate how the model might perform on unseen data by splitting the training data into multiple subsets for training and validation."
   ]
  },
  {
   "cell_type": "markdown",
   "id": "d6fd5b00",
   "metadata": {},
   "source": [
    "## Logistic Regression\n",
    "\n",
    "In this section, we will explore the development of a Logistic Regression model. Logistic Regression is a widely-used algorithm for binary and multi-class classification tasks.\n",
    "\n",
    "We have chosen to work with the Logistic Regression algorithm due to its simplicity, interpretability, and effectiveness in classification problems. Logistic Regression is particularly valuable when we need to understand the probability of an event occurring."
   ]
  },
  {
   "cell_type": "code",
   "execution_count": 61,
   "id": "e432225d",
   "metadata": {},
   "outputs": [],
   "source": [
    "logistic_model = LogisticRegression()\n",
    "\n",
    "logistic_model.fit(X_smote, y_smote)\n",
    "logistic_predictions = logistic_model.predict(X_test)\n",
    "\n",
    "logistic_accuracy = accuracy_score(y_test, logistic_predictions)\n",
    "logistic_precision = precision_score(y_test, logistic_predictions)\n",
    "logistic_f1 = f1_score(y_test, logistic_predictions)\n",
    "logistic_recall = recall_score(y_test, logistic_predictions)"
   ]
  },
  {
   "cell_type": "code",
   "execution_count": 95,
   "id": "569cba2b",
   "metadata": {
    "scrolled": true
   },
   "outputs": [
    {
     "name": "stdout",
     "output_type": "stream",
     "text": [
      "Logistic Regression Accuracy: 0.8532035685320357\n",
      "Logistic Regression Precision: 0.519277108433735\n",
      "Logistic Regression recall: 0.7495652173913043\n",
      "Logistic Regression f1: 0.613523131672598\n",
      "Logistic Regression Confusion matrix:[[2725  399]\n",
      " [ 144  431]]\n",
      "Logistic Regression Classification report:              precision    recall  f1-score   support\n",
      "\n",
      "           0       0.95      0.87      0.91      3124\n",
      "           1       0.52      0.75      0.61       575\n",
      "\n",
      "    accuracy                           0.85      3699\n",
      "   macro avg       0.73      0.81      0.76      3699\n",
      "weighted avg       0.88      0.85      0.86      3699\n",
      "\n"
     ]
    }
   ],
   "source": [
    "print(\"Logistic Regression Accuracy:\", logistic_accuracy)\n",
    "print(\"Logistic Regression Precision:\", logistic_precision)\n",
    "print(\"Logistic Regression recall:\", logistic_recall)\n",
    "print(\"Logistic Regression f1:\", logistic_f1)\n",
    "print(f\"{'Logistic Regression Confusion matrix:'}{confusion_matrix(y_test, logistic_predictions)}\")\n",
    "print(f\"{'Logistic Regression Classification report:':}{classification_report(y_test, logistic_predictions)}\")\n"
   ]
  },
  {
   "cell_type": "markdown",
   "id": "72928a6f",
   "metadata": {},
   "source": [
    "For the logistic model we got weighed average F1 score value as 0.86.We are taking the weighed average value as it takes data imbalance into the account for calculation."
   ]
  },
  {
   "cell_type": "markdown",
   "id": "f347cc12",
   "metadata": {},
   "source": [
    "#### Random Search - Logistic Regression\n",
    "\n",
    "\n",
    "Logistic Regression has various hyperparameters that can be adjusted to improve model performance. Some of the key hyperparameters we will tune include:\n",
    "\n",
    "\"C (Inverse of Regularization Strength), Penalty, Solver\""
   ]
  },
  {
   "cell_type": "code",
   "execution_count": 137,
   "id": "fee89439",
   "metadata": {},
   "outputs": [],
   "source": [
    "param_grid_random_logistic = {\n",
    "    'penalty': ['l1', 'l2', 'elasticnet', 'none'],\n",
    "    'C': [0.001, 0.01, 0.1, 1, 10, 100],\n",
    "    'solver': ['newton-cg', 'lbfgs', 'liblinear', 'sag', 'saga'],\n",
    "} #defining different parameters\n",
    "\n",
    "# Creating a Randomized Search model\n",
    "random_search = RandomizedSearchCV(\n",
    "    estimator=logistic_model,\n",
    "    param_distributions=param_grid_random_logistic,\n",
    "    n_iter=50,  # Number of random combinations \n",
    "    scoring='f1',  # Evaluation metric\n",
    "    cv=10,  # Cross-validation folds\n",
    "    n_jobs=-1,  # Utilizing all available CPUs\n",
    "    random_state=42  # For reproducibility\n",
    ")"
   ]
  },
  {
   "cell_type": "code",
   "execution_count": 97,
   "id": "0d33d473",
   "metadata": {},
   "outputs": [
    {
     "data": {
      "text/html": [
       "<style>#sk-container-id-3 {color: black;}#sk-container-id-3 pre{padding: 0;}#sk-container-id-3 div.sk-toggleable {background-color: white;}#sk-container-id-3 label.sk-toggleable__label {cursor: pointer;display: block;width: 100%;margin-bottom: 0;padding: 0.3em;box-sizing: border-box;text-align: center;}#sk-container-id-3 label.sk-toggleable__label-arrow:before {content: \"▸\";float: left;margin-right: 0.25em;color: #696969;}#sk-container-id-3 label.sk-toggleable__label-arrow:hover:before {color: black;}#sk-container-id-3 div.sk-estimator:hover label.sk-toggleable__label-arrow:before {color: black;}#sk-container-id-3 div.sk-toggleable__content {max-height: 0;max-width: 0;overflow: hidden;text-align: left;background-color: #f0f8ff;}#sk-container-id-3 div.sk-toggleable__content pre {margin: 0.2em;color: black;border-radius: 0.25em;background-color: #f0f8ff;}#sk-container-id-3 input.sk-toggleable__control:checked~div.sk-toggleable__content {max-height: 200px;max-width: 100%;overflow: auto;}#sk-container-id-3 input.sk-toggleable__control:checked~label.sk-toggleable__label-arrow:before {content: \"▾\";}#sk-container-id-3 div.sk-estimator input.sk-toggleable__control:checked~label.sk-toggleable__label {background-color: #d4ebff;}#sk-container-id-3 div.sk-label input.sk-toggleable__control:checked~label.sk-toggleable__label {background-color: #d4ebff;}#sk-container-id-3 input.sk-hidden--visually {border: 0;clip: rect(1px 1px 1px 1px);clip: rect(1px, 1px, 1px, 1px);height: 1px;margin: -1px;overflow: hidden;padding: 0;position: absolute;width: 1px;}#sk-container-id-3 div.sk-estimator {font-family: monospace;background-color: #f0f8ff;border: 1px dotted black;border-radius: 0.25em;box-sizing: border-box;margin-bottom: 0.5em;}#sk-container-id-3 div.sk-estimator:hover {background-color: #d4ebff;}#sk-container-id-3 div.sk-parallel-item::after {content: \"\";width: 100%;border-bottom: 1px solid gray;flex-grow: 1;}#sk-container-id-3 div.sk-label:hover label.sk-toggleable__label {background-color: #d4ebff;}#sk-container-id-3 div.sk-serial::before {content: \"\";position: absolute;border-left: 1px solid gray;box-sizing: border-box;top: 0;bottom: 0;left: 50%;z-index: 0;}#sk-container-id-3 div.sk-serial {display: flex;flex-direction: column;align-items: center;background-color: white;padding-right: 0.2em;padding-left: 0.2em;position: relative;}#sk-container-id-3 div.sk-item {position: relative;z-index: 1;}#sk-container-id-3 div.sk-parallel {display: flex;align-items: stretch;justify-content: center;background-color: white;position: relative;}#sk-container-id-3 div.sk-item::before, #sk-container-id-3 div.sk-parallel-item::before {content: \"\";position: absolute;border-left: 1px solid gray;box-sizing: border-box;top: 0;bottom: 0;left: 50%;z-index: -1;}#sk-container-id-3 div.sk-parallel-item {display: flex;flex-direction: column;z-index: 1;position: relative;background-color: white;}#sk-container-id-3 div.sk-parallel-item:first-child::after {align-self: flex-end;width: 50%;}#sk-container-id-3 div.sk-parallel-item:last-child::after {align-self: flex-start;width: 50%;}#sk-container-id-3 div.sk-parallel-item:only-child::after {width: 0;}#sk-container-id-3 div.sk-dashed-wrapped {border: 1px dashed gray;margin: 0 0.4em 0.5em 0.4em;box-sizing: border-box;padding-bottom: 0.4em;background-color: white;}#sk-container-id-3 div.sk-label label {font-family: monospace;font-weight: bold;display: inline-block;line-height: 1.2em;}#sk-container-id-3 div.sk-label-container {text-align: center;}#sk-container-id-3 div.sk-container {/* jupyter's `normalize.less` sets `[hidden] { display: none; }` but bootstrap.min.css set `[hidden] { display: none !important; }` so we also need the `!important` here to be able to override the default hidden behavior on the sphinx rendered scikit-learn.org. See: https://github.com/scikit-learn/scikit-learn/issues/21755 */display: inline-block !important;position: relative;}#sk-container-id-3 div.sk-text-repr-fallback {display: none;}</style><div id=\"sk-container-id-3\" class=\"sk-top-container\"><div class=\"sk-text-repr-fallback\"><pre>RandomizedSearchCV(cv=10, estimator=LogisticRegression(), n_iter=50, n_jobs=-1,\n",
       "                   param_distributions={&#x27;C&#x27;: [0.001, 0.01, 0.1, 1, 10, 100],\n",
       "                                        &#x27;penalty&#x27;: [&#x27;l1&#x27;, &#x27;l2&#x27;, &#x27;elasticnet&#x27;,\n",
       "                                                    &#x27;none&#x27;],\n",
       "                                        &#x27;solver&#x27;: [&#x27;newton-cg&#x27;, &#x27;lbfgs&#x27;,\n",
       "                                                   &#x27;liblinear&#x27;, &#x27;sag&#x27;,\n",
       "                                                   &#x27;saga&#x27;]},\n",
       "                   random_state=42, scoring=&#x27;f1&#x27;)</pre><b>In a Jupyter environment, please rerun this cell to show the HTML representation or trust the notebook. <br />On GitHub, the HTML representation is unable to render, please try loading this page with nbviewer.org.</b></div><div class=\"sk-container\" hidden><div class=\"sk-item sk-dashed-wrapped\"><div class=\"sk-label-container\"><div class=\"sk-label sk-toggleable\"><input class=\"sk-toggleable__control sk-hidden--visually\" id=\"sk-estimator-id-7\" type=\"checkbox\" ><label for=\"sk-estimator-id-7\" class=\"sk-toggleable__label sk-toggleable__label-arrow\">RandomizedSearchCV</label><div class=\"sk-toggleable__content\"><pre>RandomizedSearchCV(cv=10, estimator=LogisticRegression(), n_iter=50, n_jobs=-1,\n",
       "                   param_distributions={&#x27;C&#x27;: [0.001, 0.01, 0.1, 1, 10, 100],\n",
       "                                        &#x27;penalty&#x27;: [&#x27;l1&#x27;, &#x27;l2&#x27;, &#x27;elasticnet&#x27;,\n",
       "                                                    &#x27;none&#x27;],\n",
       "                                        &#x27;solver&#x27;: [&#x27;newton-cg&#x27;, &#x27;lbfgs&#x27;,\n",
       "                                                   &#x27;liblinear&#x27;, &#x27;sag&#x27;,\n",
       "                                                   &#x27;saga&#x27;]},\n",
       "                   random_state=42, scoring=&#x27;f1&#x27;)</pre></div></div></div><div class=\"sk-parallel\"><div class=\"sk-parallel-item\"><div class=\"sk-item\"><div class=\"sk-label-container\"><div class=\"sk-label sk-toggleable\"><input class=\"sk-toggleable__control sk-hidden--visually\" id=\"sk-estimator-id-8\" type=\"checkbox\" ><label for=\"sk-estimator-id-8\" class=\"sk-toggleable__label sk-toggleable__label-arrow\">estimator: LogisticRegression</label><div class=\"sk-toggleable__content\"><pre>LogisticRegression()</pre></div></div></div><div class=\"sk-serial\"><div class=\"sk-item\"><div class=\"sk-estimator sk-toggleable\"><input class=\"sk-toggleable__control sk-hidden--visually\" id=\"sk-estimator-id-9\" type=\"checkbox\" ><label for=\"sk-estimator-id-9\" class=\"sk-toggleable__label sk-toggleable__label-arrow\">LogisticRegression</label><div class=\"sk-toggleable__content\"><pre>LogisticRegression()</pre></div></div></div></div></div></div></div></div></div></div>"
      ],
      "text/plain": [
       "RandomizedSearchCV(cv=10, estimator=LogisticRegression(), n_iter=50, n_jobs=-1,\n",
       "                   param_distributions={'C': [0.001, 0.01, 0.1, 1, 10, 100],\n",
       "                                        'penalty': ['l1', 'l2', 'elasticnet',\n",
       "                                                    'none'],\n",
       "                                        'solver': ['newton-cg', 'lbfgs',\n",
       "                                                   'liblinear', 'sag',\n",
       "                                                   'saga']},\n",
       "                   random_state=42, scoring='f1')"
      ]
     },
     "execution_count": 97,
     "metadata": {},
     "output_type": "execute_result"
    }
   ],
   "source": [
    "random_search.fit(X_smote, y_smote) #fitting the model for random search"
   ]
  },
  {
   "cell_type": "code",
   "execution_count": 98,
   "id": "646b92a3",
   "metadata": {},
   "outputs": [],
   "source": [
    "y_pred_random_logistic= random_search.predict(X_test) #predicting the values"
   ]
  },
  {
   "cell_type": "code",
   "execution_count": 99,
   "id": "00e1daef",
   "metadata": {},
   "outputs": [
    {
     "name": "stdout",
     "output_type": "stream",
     "text": [
      "Accuracy Score:   0.8599621519329549\n",
      "Precision Score:  0.5350553505535055\n",
      "Recall Score:     0.7565217391304347\n",
      "F1 Score:         0.626801152737752\n",
      "Classification report:               precision    recall  f1-score   support\n",
      "\n",
      "           0       0.95      0.88      0.91      3124\n",
      "           1       0.54      0.76      0.63       575\n",
      "\n",
      "    accuracy                           0.86      3699\n",
      "   macro avg       0.74      0.82      0.77      3699\n",
      "weighted avg       0.89      0.86      0.87      3699\n",
      "\n",
      "Random Search Best Parameters: {'solver': 'liblinear', 'penalty': 'l1', 'C': 0.01}\n"
     ]
    }
   ],
   "source": [
    "print(f\"{'Accuracy Score: ':18}{accuracy_score(y_test, y_pred_random_logistic)}\")\n",
    "print(f\"{'Precision Score: ':18}{precision_score(y_test, y_pred_random_logistic)}\")\n",
    "print(f\"{'Recall Score: ':18}{recall_score(y_test, y_pred_random_logistic)}\")\n",
    "print(f\"{'F1 Score: ':18}{f1_score(y_test, y_pred_random_logistic)}\")\n",
    "print(f\"{'Classification report: ':18}{classification_report(y_test, y_pred_random_logistic)}\")\n",
    "print(\"Random Search Best Parameters:\", random_search.best_params_)"
   ]
  },
  {
   "cell_type": "code",
   "execution_count": 100,
   "id": "374f18cf",
   "metadata": {
    "scrolled": true
   },
   "outputs": [
    {
     "data": {
      "image/png": "[encoded data removed]",
      "text/plain": [
       "<Figure size 800x600 with 1 Axes>"
      ]
     },
     "metadata": {},
     "output_type": "display_data"
    }
   ],
   "source": [
    "cm = confusion_matrix(y_test, y_pred_random_logistic)\n",
    "\n",
    "fig, ax = plt.subplots(figsize=(8, 6))\n",
    "\n",
    "ConfusionMatrixDisplay.from_predictions(\n",
    "    y_test, y_pred_random_logistic, ax=ax, colorbar=False, cmap=plt.cm.Blues\n",
    ")\n",
    "\n",
    "plt.show()"
   ]
  },
  {
   "cell_type": "markdown",
   "id": "4e0f6b3f",
   "metadata": {},
   "source": [
    "#### Grid Search - Logistic Regression"
   ]
  },
  {
   "cell_type": "code",
   "execution_count": 101,
   "id": "e6c73dd8",
   "metadata": {},
   "outputs": [],
   "source": [
    "grid_search = GridSearchCV(\n",
    "    estimator=logistic_model,\n",
    "    param_grid=param_grid_random_logistic,\n",
    "    scoring='f1',  # Evaluation metric\n",
    "    cv=10,  # Cross-validation folds\n",
    "    n_jobs=-1,  # Utilizing all available CPUs\n",
    ")"
   ]
  },
  {
   "cell_type": "code",
   "execution_count": 102,
   "id": "4d67a83e",
   "metadata": {},
   "outputs": [
    {
     "data": {
      "text/html": [
       "<style>#sk-container-id-4 {color: black;}#sk-container-id-4 pre{padding: 0;}#sk-container-id-4 div.sk-toggleable {background-color: white;}#sk-container-id-4 label.sk-toggleable__label {cursor: pointer;display: block;width: 100%;margin-bottom: 0;padding: 0.3em;box-sizing: border-box;text-align: center;}#sk-container-id-4 label.sk-toggleable__label-arrow:before {content: \"▸\";float: left;margin-right: 0.25em;color: #696969;}#sk-container-id-4 label.sk-toggleable__label-arrow:hover:before {color: black;}#sk-container-id-4 div.sk-estimator:hover label.sk-toggleable__label-arrow:before {color: black;}#sk-container-id-4 div.sk-toggleable__content {max-height: 0;max-width: 0;overflow: hidden;text-align: left;background-color: #f0f8ff;}#sk-container-id-4 div.sk-toggleable__content pre {margin: 0.2em;color: black;border-radius: 0.25em;background-color: #f0f8ff;}#sk-container-id-4 input.sk-toggleable__control:checked~div.sk-toggleable__content {max-height: 200px;max-width: 100%;overflow: auto;}#sk-container-id-4 input.sk-toggleable__control:checked~label.sk-toggleable__label-arrow:before {content: \"▾\";}#sk-container-id-4 div.sk-estimator input.sk-toggleable__control:checked~label.sk-toggleable__label {background-color: #d4ebff;}#sk-container-id-4 div.sk-label input.sk-toggleable__control:checked~label.sk-toggleable__label {background-color: #d4ebff;}#sk-container-id-4 input.sk-hidden--visually {border: 0;clip: rect(1px 1px 1px 1px);clip: rect(1px, 1px, 1px, 1px);height: 1px;margin: -1px;overflow: hidden;padding: 0;position: absolute;width: 1px;}#sk-container-id-4 div.sk-estimator {font-family: monospace;background-color: #f0f8ff;border: 1px dotted black;border-radius: 0.25em;box-sizing: border-box;margin-bottom: 0.5em;}#sk-container-id-4 div.sk-estimator:hover {background-color: #d4ebff;}#sk-container-id-4 div.sk-parallel-item::after {content: \"\";width: 100%;border-bottom: 1px solid gray;flex-grow: 1;}#sk-container-id-4 div.sk-label:hover label.sk-toggleable__label {background-color: #d4ebff;}#sk-container-id-4 div.sk-serial::before {content: \"\";position: absolute;border-left: 1px solid gray;box-sizing: border-box;top: 0;bottom: 0;left: 50%;z-index: 0;}#sk-container-id-4 div.sk-serial {display: flex;flex-direction: column;align-items: center;background-color: white;padding-right: 0.2em;padding-left: 0.2em;position: relative;}#sk-container-id-4 div.sk-item {position: relative;z-index: 1;}#sk-container-id-4 div.sk-parallel {display: flex;align-items: stretch;justify-content: center;background-color: white;position: relative;}#sk-container-id-4 div.sk-item::before, #sk-container-id-4 div.sk-parallel-item::before {content: \"\";position: absolute;border-left: 1px solid gray;box-sizing: border-box;top: 0;bottom: 0;left: 50%;z-index: -1;}#sk-container-id-4 div.sk-parallel-item {display: flex;flex-direction: column;z-index: 1;position: relative;background-color: white;}#sk-container-id-4 div.sk-parallel-item:first-child::after {align-self: flex-end;width: 50%;}#sk-container-id-4 div.sk-parallel-item:last-child::after {align-self: flex-start;width: 50%;}#sk-container-id-4 div.sk-parallel-item:only-child::after {width: 0;}#sk-container-id-4 div.sk-dashed-wrapped {border: 1px dashed gray;margin: 0 0.4em 0.5em 0.4em;box-sizing: border-box;padding-bottom: 0.4em;background-color: white;}#sk-container-id-4 div.sk-label label {font-family: monospace;font-weight: bold;display: inline-block;line-height: 1.2em;}#sk-container-id-4 div.sk-label-container {text-align: center;}#sk-container-id-4 div.sk-container {/* jupyter's `normalize.less` sets `[hidden] { display: none; }` but bootstrap.min.css set `[hidden] { display: none !important; }` so we also need the `!important` here to be able to override the default hidden behavior on the sphinx rendered scikit-learn.org. See: https://github.com/scikit-learn/scikit-learn/issues/21755 */display: inline-block !important;position: relative;}#sk-container-id-4 div.sk-text-repr-fallback {display: none;}</style><div id=\"sk-container-id-4\" class=\"sk-top-container\"><div class=\"sk-text-repr-fallback\"><pre>GridSearchCV(cv=10, estimator=LogisticRegression(), n_jobs=-1,\n",
       "             param_grid={&#x27;C&#x27;: [0.001, 0.01, 0.1, 1, 10, 100],\n",
       "                         &#x27;penalty&#x27;: [&#x27;l1&#x27;, &#x27;l2&#x27;, &#x27;elasticnet&#x27;, &#x27;none&#x27;],\n",
       "                         &#x27;solver&#x27;: [&#x27;newton-cg&#x27;, &#x27;lbfgs&#x27;, &#x27;liblinear&#x27;, &#x27;sag&#x27;,\n",
       "                                    &#x27;saga&#x27;]},\n",
       "             scoring=&#x27;f1&#x27;)</pre><b>In a Jupyter environment, please rerun this cell to show the HTML representation or trust the notebook. <br />On GitHub, the HTML representation is unable to render, please try loading this page with nbviewer.org.</b></div><div class=\"sk-container\" hidden><div class=\"sk-item sk-dashed-wrapped\"><div class=\"sk-label-container\"><div class=\"sk-label sk-toggleable\"><input class=\"sk-toggleable__control sk-hidden--visually\" id=\"sk-estimator-id-10\" type=\"checkbox\" ><label for=\"sk-estimator-id-10\" class=\"sk-toggleable__label sk-toggleable__label-arrow\">GridSearchCV</label><div class=\"sk-toggleable__content\"><pre>GridSearchCV(cv=10, estimator=LogisticRegression(), n_jobs=-1,\n",
       "             param_grid={&#x27;C&#x27;: [0.001, 0.01, 0.1, 1, 10, 100],\n",
       "                         &#x27;penalty&#x27;: [&#x27;l1&#x27;, &#x27;l2&#x27;, &#x27;elasticnet&#x27;, &#x27;none&#x27;],\n",
       "                         &#x27;solver&#x27;: [&#x27;newton-cg&#x27;, &#x27;lbfgs&#x27;, &#x27;liblinear&#x27;, &#x27;sag&#x27;,\n",
       "                                    &#x27;saga&#x27;]},\n",
       "             scoring=&#x27;f1&#x27;)</pre></div></div></div><div class=\"sk-parallel\"><div class=\"sk-parallel-item\"><div class=\"sk-item\"><div class=\"sk-label-container\"><div class=\"sk-label sk-toggleable\"><input class=\"sk-toggleable__control sk-hidden--visually\" id=\"sk-estimator-id-11\" type=\"checkbox\" ><label for=\"sk-estimator-id-11\" class=\"sk-toggleable__label sk-toggleable__label-arrow\">estimator: LogisticRegression</label><div class=\"sk-toggleable__content\"><pre>LogisticRegression()</pre></div></div></div><div class=\"sk-serial\"><div class=\"sk-item\"><div class=\"sk-estimator sk-toggleable\"><input class=\"sk-toggleable__control sk-hidden--visually\" id=\"sk-estimator-id-12\" type=\"checkbox\" ><label for=\"sk-estimator-id-12\" class=\"sk-toggleable__label sk-toggleable__label-arrow\">LogisticRegression</label><div class=\"sk-toggleable__content\"><pre>LogisticRegression()</pre></div></div></div></div></div></div></div></div></div></div>"
      ],
      "text/plain": [
       "GridSearchCV(cv=10, estimator=LogisticRegression(), n_jobs=-1,\n",
       "             param_grid={'C': [0.001, 0.01, 0.1, 1, 10, 100],\n",
       "                         'penalty': ['l1', 'l2', 'elasticnet', 'none'],\n",
       "                         'solver': ['newton-cg', 'lbfgs', 'liblinear', 'sag',\n",
       "                                    'saga']},\n",
       "             scoring='f1')"
      ]
     },
     "execution_count": 102,
     "metadata": {},
     "output_type": "execute_result"
    }
   ],
   "source": [
    "grid_search.fit(X_smote, y_smote) #fitting the model for grid search"
   ]
  },
  {
   "cell_type": "code",
   "execution_count": 103,
   "id": "9145154c",
   "metadata": {},
   "outputs": [],
   "source": [
    "y_pred_grid_logistic = grid_search.predict(X_test) #predicitng the values"
   ]
  },
  {
   "cell_type": "code",
   "execution_count": 104,
   "id": "0dc46a9c",
   "metadata": {},
   "outputs": [
    {
     "name": "stdout",
     "output_type": "stream",
     "text": [
      "Accuracy Score:   0.8834820221681535\n",
      "Precision Score:  0.5989010989010989\n",
      "Recall Score:     0.7582608695652174\n",
      "F1 Score:         0.6692248656945511\n",
      "Classification report:               precision    recall  f1-score   support\n",
      "\n",
      "           0       0.95      0.91      0.93      3124\n",
      "           1       0.60      0.76      0.67       575\n",
      "\n",
      "    accuracy                           0.88      3699\n",
      "   macro avg       0.78      0.83      0.80      3699\n",
      "weighted avg       0.90      0.88      0.89      3699\n",
      "\n",
      "Grid Search Best Parameters: {'C': 0.001, 'penalty': 'l1', 'solver': 'liblinear'}\n"
     ]
    }
   ],
   "source": [
    "print(f\"{'Accuracy Score: ':18}{accuracy_score(y_test, y_pred_grid_logistic)}\")\n",
    "print(f\"{'Precision Score: ':18}{precision_score(y_test, y_pred_grid_logistic)}\")\n",
    "print(f\"{'Recall Score: ':18}{recall_score(y_test, y_pred_grid_logistic)}\")\n",
    "print(f\"{'F1 Score: ':18}{f1_score(y_test, y_pred_grid_logistic)}\")\n",
    "print(f\"{'Classification report: ':18}{classification_report(y_test, y_pred_grid_logistic)}\")\n",
    "print(\"Grid Search Best Parameters:\", grid_search.best_params_)"
   ]
  },
  {
   "cell_type": "markdown",
   "id": "6427487c",
   "metadata": {},
   "source": [
    "The weighed averge F1 score for this model is 0.89 we couldn't observe any change in the values even after hyperparameter tuning."
   ]
  },
  {
   "cell_type": "code",
   "execution_count": 105,
   "id": "e016cb16",
   "metadata": {
    "scrolled": true
   },
   "outputs": [
    {
     "data": {
      "image/png": "[encoded data removed]",
      "text/plain": [
       "<Figure size 800x600 with 1 Axes>"
      ]
     },
     "metadata": {},
     "output_type": "display_data"
    }
   ],
   "source": [
    "cm = confusion_matrix(y_test, y_pred_grid_logistic)\n",
    "\n",
    "fig, ax = plt.subplots(figsize=(8, 6))\n",
    "\n",
    "ConfusionMatrixDisplay.from_predictions(\n",
    "    y_test, y_pred_grid_logistic, ax=ax, colorbar=False, cmap=plt.cm.Blues\n",
    ")\n",
    "\n",
    "plt.show()"
   ]
  },
  {
   "cell_type": "code",
   "execution_count": 138,
   "id": "061af106",
   "metadata": {
    "scrolled": true
   },
   "outputs": [
    {
     "data": {
      "image/png": "[encoded data removed]",
      "text/plain": [
       "<Figure size 640x480 with 1 Axes>"
      ]
     },
     "metadata": {},
     "output_type": "display_data"
    }
   ],
   "source": [
    "y_prob = logistic_model.predict_proba(X_test)[:, 1]\n",
    "\n",
    "# Compute the ROC curve\n",
    "fpr, tpr, thresholds = roc_curve(y_test, y_prob)\n",
    "\n",
    "# Calculate the AUC (Area Under the ROC Curve)\n",
    "roc_auc = auc(fpr, tpr)\n",
    "\n",
    "# Plot the ROC curve for Logistic Regression\n",
    "plt.figure()\n",
    "plt.plot(fpr, tpr, color='darkorange', lw=2, label=f'Logistic Regression (AUC = {roc_auc:.2f})')\n",
    "plt.plot([0, 1], [0, 1], color='navy', lw=2, linestyle='--')\n",
    "plt.xlim([0.0, 1.0])\n",
    "plt.ylim([0.0, 1.05])\n",
    "plt.xlabel('False Positive Rate')\n",
    "plt.ylabel('True Positive Rate')\n",
    "plt.title('Receiver Operating Characteristic (ROC) Curve for Logistic Regression')\n",
    "plt.legend(loc='lower right')\n",
    "plt.show()"
   ]
  },
  {
   "cell_type": "markdown",
   "id": "144d4b43",
   "metadata": {},
   "source": [
    "Area under the curve for this model is 0.9"
   ]
  },
  {
   "cell_type": "markdown",
   "id": "b9cc2013",
   "metadata": {},
   "source": [
    "## KNN Model"
   ]
  },
  {
   "cell_type": "markdown",
   "id": "da6f3cd2",
   "metadata": {},
   "source": [
    "Selecting the K value by the rule of thumb,K= Squareroot of number of observarions, Here in this dataset we have 12330 observations.So K value is 111."
   ]
  },
  {
   "cell_type": "code",
   "execution_count": 107,
   "id": "4421dcd5",
   "metadata": {},
   "outputs": [],
   "source": [
    "knn_model = KNeighborsClassifier(n_neighbors=111) \n",
    "\n",
    "knn_model.fit(X_smote, y_smote)\n",
    "knn_predictions = knn_model.predict(X_test)\n",
    "\n",
    "knn_accuracy = accuracy_score(y_test, knn_predictions)\n",
    "knn_precision = precision_score(y_test, knn_predictions)\n",
    "knn_recall = recall_score(y_test, knn_predictions)\n",
    "knn_f1 = f1_score(y_test, knn_predictions)\n",
    "knn_report = classification_report(y_test, knn_predictions)"
   ]
  },
  {
   "cell_type": "code",
   "execution_count": 108,
   "id": "23d28f32",
   "metadata": {
    "scrolled": true
   },
   "outputs": [
    {
     "name": "stdout",
     "output_type": "stream",
     "text": [
      "KNN Precision: 0.34236267870579384\n",
      "KNN Accuracy: 0.7312787239794539\n",
      "KNN f1: 0.4779411764705883\n",
      "KNN recall: 0.7913043478260869\n",
      "KNN Classification Report:\n",
      "               precision    recall  f1-score   support\n",
      "\n",
      "           0       0.95      0.72      0.82      3124\n",
      "           1       0.34      0.79      0.48       575\n",
      "\n",
      "    accuracy                           0.73      3699\n",
      "   macro avg       0.65      0.76      0.65      3699\n",
      "weighted avg       0.86      0.73      0.77      3699\n",
      "\n"
     ]
    }
   ],
   "source": [
    "print(\"KNN Precision:\", knn_precision)\n",
    "print(\"KNN Accuracy:\", knn_accuracy)\n",
    "print(\"KNN f1:\", knn_f1)\n",
    "print(\"KNN recall:\", knn_recall)\n",
    "print(\"KNN Classification Report:\\n\", knn_report)"
   ]
  },
  {
   "cell_type": "markdown",
   "id": "f3ca94ea",
   "metadata": {},
   "source": [
    "The weighed Average F1 Score for this model is 0.77."
   ]
  },
  {
   "cell_type": "markdown",
   "id": "5cfa5c7e",
   "metadata": {},
   "source": [
    "## Decision Tree\n",
    "\n",
    "In this section, we will explore the development of a Decision Tree model. Decision Trees are a popular and interpretable machine learning algorithm used for both classification and regression tasks.\n",
    "\n",
    "We have chosen to work with the Decision Tree algorithm due to its simplicity and interpretability. Decision Trees provide insights into the decision-making process and are suitable for tasks where understanding the logic behind predictions is essential."
   ]
  },
  {
   "cell_type": "code",
   "execution_count": 109,
   "id": "6a79f5c4",
   "metadata": {},
   "outputs": [],
   "source": [
    "decision_tree_model = DecisionTreeClassifier(random_state=42)\n",
    "\n",
    "decision_tree_model.fit(X_smote, y_smote) #fitting the model\n",
    "decision_tree_predictions = decision_tree_model.predict(X_test) #predicting the model\n",
    "\n",
    "decision_tree_accuracy = accuracy_score(y_test, decision_tree_predictions)\n",
    "decision_tree_precision = precision_score(y_test, decision_tree_predictions)\n",
    "decision_tree_recall = recall_score(y_test, decision_tree_predictions)\n",
    "decision_tree_f1 = f1_score(y_test, decision_tree_predictions)\n",
    "decision_tree_report = classification_report(y_test, decision_tree_predictions)"
   ]
  },
  {
   "cell_type": "code",
   "execution_count": 110,
   "id": "a1157add",
   "metadata": {
    "scrolled": true
   },
   "outputs": [
    {
     "name": "stdout",
     "output_type": "stream",
     "text": [
      "Decision Tree Accuracy: 0.863206271965396\n",
      "Decision Tree Precision: 0.5505124450951684\n",
      "Decision Tree recall: 0.6539130434782608\n",
      "Decision Tree f1: 0.5977742448330683\n",
      "Decision Tree Classification Report:\n",
      "               precision    recall  f1-score   support\n",
      "\n",
      "           0       0.93      0.90      0.92      3124\n",
      "           1       0.55      0.65      0.60       575\n",
      "\n",
      "    accuracy                           0.86      3699\n",
      "   macro avg       0.74      0.78      0.76      3699\n",
      "weighted avg       0.87      0.86      0.87      3699\n",
      "\n"
     ]
    }
   ],
   "source": [
    "print(\"Decision Tree Accuracy:\", decision_tree_accuracy)\n",
    "print(\"Decision Tree Precision:\", decision_tree_precision)\n",
    "print(\"Decision Tree recall:\", decision_tree_recall)\n",
    "print(\"Decision Tree f1:\", decision_tree_f1)\n",
    "print(\"Decision Tree Classification Report:\\n\", decision_tree_report)"
   ]
  },
  {
   "cell_type": "markdown",
   "id": "3837e85b",
   "metadata": {},
   "source": [
    "The weighed average F1 Score for this model is 0.87."
   ]
  },
  {
   "cell_type": "markdown",
   "id": "37bb2708",
   "metadata": {},
   "source": [
    "### Hyper Parameter Tuning - Decision Tree\n",
    "\n",
    "In this section, we will explore the process of hyperparameter tuning for our Decision Tree model. Hyperparameter tuning is essential for optimizing the performance of the model\n",
    "\n",
    "The Decision Tree model has various hyperparameters that can be adjusted to improve model performance. Some of the key hyperparameters we will tune are mentioned below"
   ]
  },
  {
   "cell_type": "code",
   "execution_count": 111,
   "id": "9b672c7b",
   "metadata": {},
   "outputs": [],
   "source": [
    "# Criterion used to guide data splits\n",
    "criterion = ['gini', 'entropy', 'log_loss']\n",
    "\n",
    "# Maximum number of levels in tree. If None, then nodes are expanded until all leaves are pure or until all \n",
    "# leaves contain less than min_samples_split samples.\n",
    "# default = None\n",
    "max_depth = [int(x) for x in np.linspace(1, 40000, 50)]\n",
    "max_depth.append(None)\n",
    "\n",
    "# Minimum number of samples required to split a node\n",
    "# default is 2\n",
    "min_samples_split = [int(x) for x in np.linspace(2, 5000, 50)]\n",
    "\n",
    "# Minimum number of samples required at each leaf node\n",
    "# default = 1 \n",
    "min_samples_leaf = [int(x) for x in np.linspace(1, 10000, 50)]\n",
    "\n",
    "# max_leaf_nodes  - Grow trees with max_leaf_nodes in best-first fashion.\n",
    "# If None then unlimited number of leaf nodes.\n",
    "# default=None \n",
    "max_leaf_nodes = [int(x) for x in np.linspace(2, len(y_test), 50)]\n",
    "max_leaf_nodes.append(None)\n",
    "\n",
    "# min_impurity_decrease - A node will be split if this split induces a decrease of the impurity greater than or equal to this value.\n",
    "# default=0.0\n",
    "min_impurity_decrease = [x for x in np.arange(0.0, 0.01, 0.0001).round(5)]\n",
    "\n",
    "# Creating the random grid\n",
    "param_grid_random_dt = { 'criterion': criterion,\n",
    "                      'max_depth': max_depth,\n",
    "                      'min_samples_split': min_samples_split,\n",
    "                      'min_samples_leaf' : min_samples_leaf,\n",
    "                      'max_leaf_nodes' : max_leaf_nodes,\n",
    "                      'min_impurity_decrease' : min_impurity_decrease,\n",
    "                     }\n",
    "\n"
   ]
  },
  {
   "cell_type": "markdown",
   "id": "77c59e22",
   "metadata": {},
   "source": [
    "#### Random Search - Decision Tree"
   ]
  },
  {
   "cell_type": "code",
   "execution_count": 112,
   "id": "3759ba6a",
   "metadata": {},
   "outputs": [],
   "source": [
    "best_random_search_model_dt = RandomizedSearchCV(\n",
    "        estimator=DecisionTreeClassifier(random_state=42), \n",
    "        scoring='f1', \n",
    "        param_distributions=param_grid_random_dt, \n",
    "        n_iter = 100, \n",
    "        cv=10, \n",
    "        verbose=0, \n",
    "        n_jobs = -1\n",
    "    )\n",
    "_ = best_random_search_model_dt.fit(X_smote, y_smote)"
   ]
  },
  {
   "cell_type": "code",
   "execution_count": 113,
   "id": "eca61570",
   "metadata": {},
   "outputs": [
    {
     "name": "stdout",
     "output_type": "stream",
     "text": [
      "************************************\n",
      "Accuracy Score:   0.8715869153825359\n",
      "Precision Score:  0.5606796116504854\n",
      "Recall Score:     0.8034782608695652\n",
      "F1 Score:         0.6604717655468192\n",
      "Confusion matrix: [[2762  362]\n",
      " [ 113  462]]\n",
      "Classification report:               precision    recall  f1-score   support\n",
      "\n",
      "           0       0.96      0.88      0.92      3124\n",
      "           1       0.56      0.80      0.66       575\n",
      "\n",
      "    accuracy                           0.87      3699\n",
      "   macro avg       0.76      0.84      0.79      3699\n",
      "weighted avg       0.90      0.87      0.88      3699\n",
      "\n",
      "************************************\n"
     ]
    }
   ],
   "source": [
    "y_pred_random_dt = best_random_search_model_dt.predict(X_test)\n",
    "print(\"************************************\")\n",
    "print(f\"{'Accuracy Score: ':18}{accuracy_score(y_test, y_pred_random_dt)}\")\n",
    "print(f\"{'Precision Score: ':18}{precision_score(y_test, y_pred_random_dt)}\")\n",
    "print(f\"{'Recall Score: ':18}{recall_score(y_test, y_pred_random_dt)}\")\n",
    "print(f\"{'F1 Score: ':18}{f1_score(y_test, y_pred_random_dt)}\")\n",
    "print(f\"{'Confusion matrix: ':18}{confusion_matrix(y_test, y_pred_random_dt)}\")\n",
    "print(f\"{'Classification report: ':18}{classification_report(y_test, y_pred_random_dt)}\")\n",
    "print(\"************************************\")"
   ]
  },
  {
   "cell_type": "markdown",
   "id": "d14e29cf",
   "metadata": {},
   "source": [
    "The weighed average F1 Score for this model is 0.88.We observed a slight increase in the F1 Score after tuning."
   ]
  },
  {
   "cell_type": "code",
   "execution_count": 114,
   "id": "6192203b",
   "metadata": {},
   "outputs": [
    {
     "data": {
      "image/png": "[encoded data removed]",
      "text/plain": [
       "<Figure size 800x600 with 1 Axes>"
      ]
     },
     "metadata": {},
     "output_type": "display_data"
    }
   ],
   "source": [
    "cm = confusion_matrix(y_test, y_pred_random_dt)\n",
    "\n",
    "fig, ax = plt.subplots(figsize=(8, 6))\n",
    "\n",
    "ConfusionMatrixDisplay.from_predictions(\n",
    "    y_test, y_pred_random_dt, ax=ax, colorbar=False, cmap=plt.cm.Blues\n",
    ")\n",
    "\n",
    "plt.show()"
   ]
  },
  {
   "cell_type": "code",
   "execution_count": 115,
   "id": "4ec88421",
   "metadata": {},
   "outputs": [
    {
     "name": "stdout",
     "output_type": "stream",
     "text": [
      "Best parameters found:  {'min_samples_split': 1022, 'min_samples_leaf': 4898, 'min_impurity_decrease': 0.0009, 'max_leaf_nodes': 303, 'max_depth': 1, 'criterion': 'gini'}\n"
     ]
    }
   ],
   "source": [
    "random_search_best_params_dt = best_random_search_model_dt.best_params_\n",
    "print('Best parameters found: ', random_search_best_params_dt)"
   ]
  },
  {
   "cell_type": "markdown",
   "id": "272a0e3b",
   "metadata": {},
   "source": [
    "#### Grid Search - Decision Tree"
   ]
  },
  {
   "cell_type": "code",
   "execution_count": 116,
   "id": "a60954ad",
   "metadata": {},
   "outputs": [],
   "source": [
    "plus_minus = 5 \n",
    "increment = 1\n",
    "\n",
    "param_grid_dt = { 'min_samples_split': [x for x in range(random_search_best_params_dt['min_samples_split']-plus_minus, random_search_best_params_dt['min_samples_split']+plus_minus,2) if x >= 2],       \n",
    "              'min_samples_leaf': [x for x in range(random_search_best_params_dt['min_samples_leaf']-plus_minus , random_search_best_params_dt['min_samples_leaf']+plus_minus,2) if x > 0],\n",
    "              'min_impurity_decrease': [x for x in np.arange(random_search_best_params_dt['min_impurity_decrease']-0.001, random_search_best_params_dt['min_impurity_decrease']+0.001,.0001).round(5) if x >= 0.000],\n",
    "              'max_leaf_nodes':[x for x in range(random_search_best_params_dt['max_leaf_nodes']-plus_minus , random_search_best_params_dt['max_leaf_nodes']+plus_minus, 2) if x > 1],  \n",
    "              'max_depth': [x for x in range(random_search_best_params_dt['max_depth']-plus_minus , random_search_best_params_dt['max_depth']+plus_minus, 2) if x > 1],\n",
    "              'criterion': [random_search_best_params_dt['criterion']]\n",
    "              }\n",
    "\n"
   ]
  },
  {
   "cell_type": "code",
   "execution_count": 117,
   "id": "0eaf760f",
   "metadata": {},
   "outputs": [],
   "source": [
    "best_grid_search_model_dt = GridSearchCV(estimator=DecisionTreeClassifier(random_state=42), \n",
    "                                    scoring='f1', param_grid=param_grid_dt, cv=10, verbose=0,  n_jobs = -1)\n",
    "_ = best_grid_search_model_dt.fit(X_smote, y_smote)"
   ]
  },
  {
   "cell_type": "code",
   "execution_count": 118,
   "id": "ec02d3cd",
   "metadata": {
    "scrolled": true
   },
   "outputs": [
    {
     "name": "stdout",
     "output_type": "stream",
     "text": [
      "************************************\n",
      "Accuracy Score:   0.8715869153825359\n",
      "Precision Score:  0.5606796116504854\n",
      "Recall Score:     0.8034782608695652\n",
      "F1 Score:         0.6604717655468192\n",
      "Confusion matrix: [[2762  362]\n",
      " [ 113  462]]\n",
      "Classification report:               precision    recall  f1-score   support\n",
      "\n",
      "           0       0.96      0.88      0.92      3124\n",
      "           1       0.56      0.80      0.66       575\n",
      "\n",
      "    accuracy                           0.87      3699\n",
      "   macro avg       0.76      0.84      0.79      3699\n",
      "weighted avg       0.90      0.87      0.88      3699\n",
      "\n",
      "************************************\n"
     ]
    }
   ],
   "source": [
    "y_pred_grid_dt = best_grid_search_model_dt.predict(X_test)\n",
    "print(\"************************************\")\n",
    "print(f\"{'Accuracy Score: ':18}{accuracy_score(y_test, y_pred_grid_dt)}\")\n",
    "print(f\"{'Precision Score: ':18}{precision_score(y_test, y_pred_grid_dt)}\")\n",
    "print(f\"{'Recall Score: ':18}{recall_score(y_test, y_pred_grid_dt)}\")\n",
    "print(f\"{'F1 Score: ':18}{f1_score(y_test, y_pred_grid_dt)}\")\n",
    "print(f\"{'Confusion matrix: ':18}{confusion_matrix(y_test, y_pred_grid_dt)}\")\n",
    "print(f\"{'Classification report: ':18}{classification_report(y_test, y_pred_grid_dt)}\")\n",
    "print(\"************************************\")"
   ]
  },
  {
   "cell_type": "markdown",
   "id": "4d63dda4",
   "metadata": {},
   "source": [
    "The weighed average F1 Score for this model is 0.88.The value is same as of the Random Search model."
   ]
  },
  {
   "cell_type": "code",
   "execution_count": 119,
   "id": "b8900f59",
   "metadata": {},
   "outputs": [
    {
     "data": {
      "image/png": "[encoded data removed]",
      "text/plain": [
       "<Figure size 800x600 with 1 Axes>"
      ]
     },
     "metadata": {},
     "output_type": "display_data"
    }
   ],
   "source": [
    "cm = confusion_matrix(y_test, y_pred_grid_dt)\n",
    "\n",
    "fig, ax = plt.subplots(figsize=(8, 6))\n",
    "\n",
    "ConfusionMatrixDisplay.from_predictions(\n",
    "    y_test, y_pred_grid_dt, ax=ax, colorbar=False, cmap=plt.cm.Blues\n",
    ")\n",
    "\n",
    "plt.show()"
   ]
  },
  {
   "cell_type": "code",
   "execution_count": 68,
   "id": "77b068de",
   "metadata": {},
   "outputs": [
    {
     "data": {
      "image/png": "[encoded data removed]",
      "text/plain": [
       "<Figure size 640x480 with 1 Axes>"
      ]
     },
     "metadata": {},
     "output_type": "display_data"
    }
   ],
   "source": [
    "y_prob = decision_tree_model.predict_proba(X_test)[:, 1]\n",
    "\n",
    "# Calculate the ROC curve\n",
    "fpr, tpr, thresholds = roc_curve(y_test, y_prob)\n",
    "\n",
    "# Calculate the AUC (Area Under the Curve)\n",
    "roc_auc = auc(fpr, tpr)\n",
    "\n",
    "# Plot the ROC curve\n",
    "plt.figure()\n",
    "plt.plot(fpr, tpr, color='darkorange', lw=2, label='ROC curve (area = %0.2f)' % roc_auc)\n",
    "plt.plot([0, 1], [0, 1], color='navy', lw=2, linestyle='--')\n",
    "plt.xlim([0.0, 1.0])\n",
    "plt.ylim([0.0, 1.05])\n",
    "plt.xlabel('False Positive Rate')\n",
    "plt.ylabel('True Positive Rate')\n",
    "plt.title('ROC Curve for Decision Tree Classifier')\n",
    "plt.legend(loc='lower right')\n",
    "plt.show()"
   ]
  },
  {
   "cell_type": "markdown",
   "id": "c786644b",
   "metadata": {},
   "source": [
    "The area under the ROC curve is 0.78 for this model."
   ]
  },
  {
   "cell_type": "markdown",
   "id": "747d70e6",
   "metadata": {},
   "source": [
    "## Support Vector Classifier (SVC) Model Development\n",
    "\n",
    "In this section, we will explore the development of a Support Vector Classifier (SVC) model using two different kernels: Linear and Radial Basis Function (RBF). The choice of kernel can significantly impact the model's performance, and we will evaluate the performance of both kernels.\n",
    "\n",
    "We have chosen to work with the SVC model for its ability to handle both classification and regression tasks. It's a powerful model that can create complex decision boundaries.\n",
    "\n",
    "#### Linear Kernel\n",
    "\n",
    "The Linear kernel is suitable for problems where the data is linearly separable. It assumes that the data can be separated by a straight line. This kernel is useful for simpler, well-separated datasets.\n",
    "\n",
    "#### Radial Basis Function (RBF) Kernel\n",
    "\n",
    "The RBF kernel is more flexible and can handle non-linear data. It's often the preferred choice for complex datasets where the decision boundary is not linear. It uses a Gaussian radial basis function to map data into a higher-dimensional space."
   ]
  },
  {
   "cell_type": "markdown",
   "id": "4ca2ce35",
   "metadata": {},
   "source": [
    "## SVC - Linear Kernel"
   ]
  },
  {
   "cell_type": "code",
   "execution_count": 69,
   "id": "1e97acfa",
   "metadata": {},
   "outputs": [],
   "source": [
    "svc_model = SVC(kernel='linear')\n",
    "\n",
    "svc_model.fit(X_smote, y_smote)\n",
    "svc_predictions = svc_model.predict(X_test)\n",
    "\n",
    "svc_accuracy = accuracy_score(y_test, svc_predictions)\n",
    "svc_precision = precision_score(y_test, svc_predictions)\n",
    "svc_recall = recall_score(y_test, svc_predictions)\n",
    "svc_f1 = f1_score(y_test, svc_predictions)\n",
    "svc_report = classification_report(y_test, svc_predictions)"
   ]
  },
  {
   "cell_type": "code",
   "execution_count": 47,
   "id": "39bd439b",
   "metadata": {
    "scrolled": true
   },
   "outputs": [
    {
     "name": "stdout",
     "output_type": "stream",
     "text": [
      "SVC Accuracy: 0.8780751554474182\n",
      "SVC Precision: 0.5822281167108754\n",
      "SVC recall: 0.7634782608695653\n",
      "SVC f1: 0.6606471030850264\n",
      "SVC classification report :               precision    recall  f1-score   support\n",
      "\n",
      "           0       0.95      0.90      0.93      3124\n",
      "           1       0.58      0.76      0.66       575\n",
      "\n",
      "    accuracy                           0.88      3699\n",
      "   macro avg       0.77      0.83      0.79      3699\n",
      "weighted avg       0.90      0.88      0.88      3699\n",
      "\n"
     ]
    }
   ],
   "source": [
    "print(\"SVC Accuracy:\", svc_accuracy)\n",
    "print(\"SVC Precision:\", svc_precision)\n",
    "print(\"SVC recall:\", svc_recall)\n",
    "print(\"SVC f1:\", svc_f1)\n",
    "print(\"SVC classification report :\", svc_report)"
   ]
  },
  {
   "cell_type": "markdown",
   "id": "97c969d6",
   "metadata": {},
   "source": [
    "The weighed average F1 Score for this model is 0.88."
   ]
  },
  {
   "cell_type": "markdown",
   "id": "a17c4e42",
   "metadata": {},
   "source": [
    "## SVC - Non Linear Kernel"
   ]
  },
  {
   "cell_type": "code",
   "execution_count": 48,
   "id": "b2988905",
   "metadata": {},
   "outputs": [],
   "source": [
    "svc_model = SVC(kernel='rbf')\n",
    "\n",
    "svc_model.fit(X_smote, y_smote)\n",
    "svc_predictions = svc_model.predict(X_test)\n",
    "\n",
    "svc_accuracy = accuracy_score(y_test, svc_predictions)\n",
    "svc_precision = precision_score(y_test, svc_predictions)\n",
    "svc_recall = recall_score(y_test, svc_predictions)\n",
    "svc_f1 = f1_score(y_test, svc_predictions)\n",
    "svc_report = classification_report(y_test, svc_predictions)"
   ]
  },
  {
   "cell_type": "code",
   "execution_count": 49,
   "id": "88916879",
   "metadata": {},
   "outputs": [
    {
     "name": "stdout",
     "output_type": "stream",
     "text": [
      "SVC Accuracy: 0.862124898621249\n",
      "SVC Precision: 0.5412960609911055\n",
      "SVC recall: 0.7408695652173913\n",
      "SVC f1: 0.6255506607929516\n",
      "SVC classification report :               precision    recall  f1-score   support\n",
      "\n",
      "           0       0.95      0.88      0.92      3124\n",
      "           1       0.54      0.74      0.63       575\n",
      "\n",
      "    accuracy                           0.86      3699\n",
      "   macro avg       0.75      0.81      0.77      3699\n",
      "weighted avg       0.89      0.86      0.87      3699\n",
      "\n"
     ]
    }
   ],
   "source": [
    "print(\"SVC Accuracy:\", svc_accuracy)\n",
    "print(\"SVC Precision:\", svc_precision)\n",
    "print(\"SVC recall:\", svc_recall)\n",
    "print(\"SVC f1:\", svc_f1)\n",
    "print(\"SVC classification report :\", svc_report)"
   ]
  },
  {
   "cell_type": "markdown",
   "id": "f037e4c0",
   "metadata": {},
   "source": [
    "The weighed average F1 Score for this model is 0.87."
   ]
  },
  {
   "cell_type": "markdown",
   "id": "bc6a8947",
   "metadata": {},
   "source": [
    "### Hyper Parameter Tuning SVC Model\n",
    "\n",
    "In this section, we will explore the process of hyperparameter tuning for our Support Vector Classifier (SVC) model. Hyperparameter tuning is essential for optimizing the performance of the model. We will focus on finding the best combination of hyperparameters to achieve better predictive accuracy.\n",
    "\n",
    "The Support Vector Classifier model has various hyperparameters that can be adjusted to improve model performance. Some of the key hyperparameters we will tune include are mentioned below:"
   ]
  },
  {
   "cell_type": "code",
   "execution_count": 58,
   "id": "4b488e40",
   "metadata": {},
   "outputs": [],
   "source": [
    "svc_model=SVC(random_state=42)\n",
    "param_grid_svc = {\n",
    "    'C': [0.1,1,10, 100],  # Regularization parameter\n",
    "    'kernel': ['linear', 'rbf'],  # Kernel type\n",
    "    'gamma': ['scale', 'auto'] + list(np.logspace(-3, 3, 7))  # Kernel coefficient\n",
    "}"
   ]
  },
  {
   "cell_type": "markdown",
   "id": "45b5d241",
   "metadata": {},
   "source": [
    "#### Random Search - SVC"
   ]
  },
  {
   "cell_type": "code",
   "execution_count": 59,
   "id": "f3dac391",
   "metadata": {},
   "outputs": [
    {
     "name": "stdout",
     "output_type": "stream",
     "text": [
      "Fitting 3 folds for each of 10 candidates, totalling 30 fits\n"
     ]
    },
    {
     "data": {
      "text/html": [
       "<style>#sk-container-id-2 {color: black;}#sk-container-id-2 pre{padding: 0;}#sk-container-id-2 div.sk-toggleable {background-color: white;}#sk-container-id-2 label.sk-toggleable__label {cursor: pointer;display: block;width: 100%;margin-bottom: 0;padding: 0.3em;box-sizing: border-box;text-align: center;}#sk-container-id-2 label.sk-toggleable__label-arrow:before {content: \"▸\";float: left;margin-right: 0.25em;color: #696969;}#sk-container-id-2 label.sk-toggleable__label-arrow:hover:before {color: black;}#sk-container-id-2 div.sk-estimator:hover label.sk-toggleable__label-arrow:before {color: black;}#sk-container-id-2 div.sk-toggleable__content {max-height: 0;max-width: 0;overflow: hidden;text-align: left;background-color: #f0f8ff;}#sk-container-id-2 div.sk-toggleable__content pre {margin: 0.2em;color: black;border-radius: 0.25em;background-color: #f0f8ff;}#sk-container-id-2 input.sk-toggleable__control:checked~div.sk-toggleable__content {max-height: 200px;max-width: 100%;overflow: auto;}#sk-container-id-2 input.sk-toggleable__control:checked~label.sk-toggleable__label-arrow:before {content: \"▾\";}#sk-container-id-2 div.sk-estimator input.sk-toggleable__control:checked~label.sk-toggleable__label {background-color: #d4ebff;}#sk-container-id-2 div.sk-label input.sk-toggleable__control:checked~label.sk-toggleable__label {background-color: #d4ebff;}#sk-container-id-2 input.sk-hidden--visually {border: 0;clip: rect(1px 1px 1px 1px);clip: rect(1px, 1px, 1px, 1px);height: 1px;margin: -1px;overflow: hidden;padding: 0;position: absolute;width: 1px;}#sk-container-id-2 div.sk-estimator {font-family: monospace;background-color: #f0f8ff;border: 1px dotted black;border-radius: 0.25em;box-sizing: border-box;margin-bottom: 0.5em;}#sk-container-id-2 div.sk-estimator:hover {background-color: #d4ebff;}#sk-container-id-2 div.sk-parallel-item::after {content: \"\";width: 100%;border-bottom: 1px solid gray;flex-grow: 1;}#sk-container-id-2 div.sk-label:hover label.sk-toggleable__label {background-color: #d4ebff;}#sk-container-id-2 div.sk-serial::before {content: \"\";position: absolute;border-left: 1px solid gray;box-sizing: border-box;top: 0;bottom: 0;left: 50%;z-index: 0;}#sk-container-id-2 div.sk-serial {display: flex;flex-direction: column;align-items: center;background-color: white;padding-right: 0.2em;padding-left: 0.2em;position: relative;}#sk-container-id-2 div.sk-item {position: relative;z-index: 1;}#sk-container-id-2 div.sk-parallel {display: flex;align-items: stretch;justify-content: center;background-color: white;position: relative;}#sk-container-id-2 div.sk-item::before, #sk-container-id-2 div.sk-parallel-item::before {content: \"\";position: absolute;border-left: 1px solid gray;box-sizing: border-box;top: 0;bottom: 0;left: 50%;z-index: -1;}#sk-container-id-2 div.sk-parallel-item {display: flex;flex-direction: column;z-index: 1;position: relative;background-color: white;}#sk-container-id-2 div.sk-parallel-item:first-child::after {align-self: flex-end;width: 50%;}#sk-container-id-2 div.sk-parallel-item:last-child::after {align-self: flex-start;width: 50%;}#sk-container-id-2 div.sk-parallel-item:only-child::after {width: 0;}#sk-container-id-2 div.sk-dashed-wrapped {border: 1px dashed gray;margin: 0 0.4em 0.5em 0.4em;box-sizing: border-box;padding-bottom: 0.4em;background-color: white;}#sk-container-id-2 div.sk-label label {font-family: monospace;font-weight: bold;display: inline-block;line-height: 1.2em;}#sk-container-id-2 div.sk-label-container {text-align: center;}#sk-container-id-2 div.sk-container {/* jupyter's `normalize.less` sets `[hidden] { display: none; }` but bootstrap.min.css set `[hidden] { display: none !important; }` so we also need the `!important` here to be able to override the default hidden behavior on the sphinx rendered scikit-learn.org. See: https://github.com/scikit-learn/scikit-learn/issues/21755 */display: inline-block !important;position: relative;}#sk-container-id-2 div.sk-text-repr-fallback {display: none;}</style><div id=\"sk-container-id-2\" class=\"sk-top-container\"><div class=\"sk-text-repr-fallback\"><pre>RandomizedSearchCV(cv=3, estimator=SVC(random_state=42), n_jobs=-1,\n",
       "                   param_distributions={&#x27;C&#x27;: [0.1, 1, 10, 100],\n",
       "                                        &#x27;gamma&#x27;: [&#x27;scale&#x27;, &#x27;auto&#x27;, 0.001, 0.01,\n",
       "                                                  0.1, 1.0, 10.0, 100.0,\n",
       "                                                  1000.0],\n",
       "                                        &#x27;kernel&#x27;: [&#x27;linear&#x27;, &#x27;rbf&#x27;]},\n",
       "                   scoring=&#x27;f1&#x27;, verbose=2)</pre><b>In a Jupyter environment, please rerun this cell to show the HTML representation or trust the notebook. <br />On GitHub, the HTML representation is unable to render, please try loading this page with nbviewer.org.</b></div><div class=\"sk-container\" hidden><div class=\"sk-item sk-dashed-wrapped\"><div class=\"sk-label-container\"><div class=\"sk-label sk-toggleable\"><input class=\"sk-toggleable__control sk-hidden--visually\" id=\"sk-estimator-id-4\" type=\"checkbox\" ><label for=\"sk-estimator-id-4\" class=\"sk-toggleable__label sk-toggleable__label-arrow\">RandomizedSearchCV</label><div class=\"sk-toggleable__content\"><pre>RandomizedSearchCV(cv=3, estimator=SVC(random_state=42), n_jobs=-1,\n",
       "                   param_distributions={&#x27;C&#x27;: [0.1, 1, 10, 100],\n",
       "                                        &#x27;gamma&#x27;: [&#x27;scale&#x27;, &#x27;auto&#x27;, 0.001, 0.01,\n",
       "                                                  0.1, 1.0, 10.0, 100.0,\n",
       "                                                  1000.0],\n",
       "                                        &#x27;kernel&#x27;: [&#x27;linear&#x27;, &#x27;rbf&#x27;]},\n",
       "                   scoring=&#x27;f1&#x27;, verbose=2)</pre></div></div></div><div class=\"sk-parallel\"><div class=\"sk-parallel-item\"><div class=\"sk-item\"><div class=\"sk-label-container\"><div class=\"sk-label sk-toggleable\"><input class=\"sk-toggleable__control sk-hidden--visually\" id=\"sk-estimator-id-5\" type=\"checkbox\" ><label for=\"sk-estimator-id-5\" class=\"sk-toggleable__label sk-toggleable__label-arrow\">estimator: SVC</label><div class=\"sk-toggleable__content\"><pre>SVC(random_state=42)</pre></div></div></div><div class=\"sk-serial\"><div class=\"sk-item\"><div class=\"sk-estimator sk-toggleable\"><input class=\"sk-toggleable__control sk-hidden--visually\" id=\"sk-estimator-id-6\" type=\"checkbox\" ><label for=\"sk-estimator-id-6\" class=\"sk-toggleable__label sk-toggleable__label-arrow\">SVC</label><div class=\"sk-toggleable__content\"><pre>SVC(random_state=42)</pre></div></div></div></div></div></div></div></div></div></div>"
      ],
      "text/plain": [
       "RandomizedSearchCV(cv=3, estimator=SVC(random_state=42), n_jobs=-1,\n",
       "                   param_distributions={'C': [0.1, 1, 10, 100],\n",
       "                                        'gamma': ['scale', 'auto', 0.001, 0.01,\n",
       "                                                  0.1, 1.0, 10.0, 100.0,\n",
       "                                                  1000.0],\n",
       "                                        'kernel': ['linear', 'rbf']},\n",
       "                   scoring='f1', verbose=2)"
      ]
     },
     "execution_count": 59,
     "metadata": {},
     "output_type": "execute_result"
    }
   ],
   "source": [
    "random_search_svc = RandomizedSearchCV(\n",
    "    estimator=svc_model,\n",
    "    param_distributions=param_grid_svc,\n",
    "    #n_iter=50,  # Number of random combinations to try\n",
    "    scoring='f1',  # Choosing the scoring metric\n",
    "    cv=3,  # Number of cross-validation folds\n",
    "    n_jobs=-1,  # Using all available CPU cores\n",
    "    verbose=2  # Verbosity level\n",
    ")\n",
    "\n",
    "random_search_svc.fit(X_smote, y_smote)"
   ]
  },
  {
   "cell_type": "code",
   "execution_count": 52,
   "id": "1a441fee",
   "metadata": {},
   "outputs": [
    {
     "name": "stdout",
     "output_type": "stream",
     "text": [
      "************************************\n",
      "Accuracy Score:   0.8442822384428224\n",
      "Precison Score:   0.4978540772532189\n",
      "Recall Score:     0.20173913043478262\n",
      "F1 Score:         0.28712871287128716\n",
      "Confusion matrix: [[3007  117]\n",
      " [ 459  116]]\n",
      "Classification report:               precision    recall  f1-score   support\n",
      "\n",
      "           0       0.87      0.96      0.91      3124\n",
      "           1       0.50      0.20      0.29       575\n",
      "\n",
      "    accuracy                           0.84      3699\n",
      "   macro avg       0.68      0.58      0.60      3699\n",
      "weighted avg       0.81      0.84      0.82      3699\n",
      "\n",
      "************************************\n"
     ]
    }
   ],
   "source": [
    "y_pred_random_svc = random_search_svc.predict(X_test)\n",
    "print(\"************************************\")\n",
    "print(f\"{'Accuracy Score: ':18}{accuracy_score(y_test, y_pred_random_svc)}\")\n",
    "print(f\"{'Precison Score: ':18}{precision_score(y_test, y_pred_random_svc)}\")\n",
    "print(f\"{'Recall Score: ':18}{recall_score(y_test, y_pred_random_svc)}\")\n",
    "print(f\"{'F1 Score: ':18}{f1_score(y_test, y_pred_random_svc)}\")\n",
    "print(f\"{'Confusion matrix: ':18}{confusion_matrix(y_test, y_pred_random_svc)}\")\n",
    "print(f\"{'Classification report: ':18}{classification_report(y_test, y_pred_random_svc)}\")\n",
    "print(\"************************************\")"
   ]
  },
  {
   "cell_type": "markdown",
   "id": "54096ac7",
   "metadata": {},
   "source": [
    "The weighed average F1 Score for this model is 0.82."
   ]
  },
  {
   "cell_type": "markdown",
   "id": "fad2199b",
   "metadata": {},
   "source": [
    "#### Grid Search - SVC"
   ]
  },
  {
   "cell_type": "code",
   "execution_count": 128,
   "id": "a831658e",
   "metadata": {},
   "outputs": [],
   "source": [
    "grid_search_svc = GridSearchCV(\n",
    "    estimator=svc_model,\n",
    "    param_grid=param_grid_svc,\n",
    "    scoring='f1',  # Choose the scoring metric\n",
    "    cv=3,  # Number of cross-validation folds\n",
    "    n_jobs=-1,  # Use all available CPU cores\n",
    "    verbose=2  # Verbosity level\n",
    ")"
   ]
  },
  {
   "cell_type": "code",
   "execution_count": 129,
   "id": "7a056f1e",
   "metadata": {},
   "outputs": [
    {
     "name": "stdout",
     "output_type": "stream",
     "text": [
      "Fitting 3 folds for each of 72 candidates, totalling 216 fits\n"
     ]
    }
   ],
   "source": [
    "grid_search_svc.fit(X_smote, y_smote)\n",
    "\n",
    "y_pred_grid_svc= grid_search_svc.predict(X_test)\n"
   ]
  },
  {
   "cell_type": "code",
   "execution_count": 130,
   "id": "fc91c406",
   "metadata": {
    "scrolled": true
   },
   "outputs": [
    {
     "name": "stdout",
     "output_type": "stream",
     "text": [
      "************************************\n",
      "Accuracy Score:   0.8437415517707488\n",
      "Precision Score:  0.4936708860759494\n",
      "Recall Score:     0.20347826086956522\n",
      "F1 Score:         0.2881773399014778\n",
      "Confusion matrix: [[3004  120]\n",
      " [ 458  117]]\n",
      "Classification report:               precision    recall  f1-score   support\n",
      "\n",
      "           0       0.87      0.96      0.91      3124\n",
      "           1       0.49      0.20      0.29       575\n",
      "\n",
      "    accuracy                           0.84      3699\n",
      "   macro avg       0.68      0.58      0.60      3699\n",
      "weighted avg       0.81      0.84      0.82      3699\n",
      "\n",
      "************************************\n"
     ]
    }
   ],
   "source": [
    "print(\"************************************\")\n",
    "print(f\"{'Accuracy Score: ':18}{accuracy_score(y_test, y_pred_grid_svc)}\")\n",
    "print(f\"{'Precision Score: ':18}{precision_score(y_test, y_pred_grid_svc)}\")\n",
    "print(f\"{'Recall Score: ':18}{recall_score(y_test, y_pred_grid_svc)}\")\n",
    "print(f\"{'F1 Score: ':18}{f1_score(y_test, y_pred_grid_svc)}\")\n",
    "print(f\"{'Confusion matrix: ':18}{confusion_matrix(y_test, y_pred_grid_svc)}\")\n",
    "print(f\"{'Classification report: ':18}{classification_report(y_test, y_pred_grid_svc)}\")\n",
    "print(\"************************************\")"
   ]
  },
  {
   "cell_type": "markdown",
   "id": "3514c1a0",
   "metadata": {},
   "source": [
    "The weighed average F1 Score for this model is 0.82."
   ]
  },
  {
   "cell_type": "code",
   "execution_count": 131,
   "id": "8c96fc83",
   "metadata": {},
   "outputs": [
    {
     "data": {
      "image/png": "[encoded data removed]",
      "text/plain": [
       "<Figure size 800x600 with 1 Axes>"
      ]
     },
     "metadata": {},
     "output_type": "display_data"
    }
   ],
   "source": [
    "cm = confusion_matrix(y_test, y_pred_grid_svc)\n",
    "\n",
    "fig, ax = plt.subplots(figsize=(8, 6))\n",
    "\n",
    "ConfusionMatrixDisplay.from_predictions(\n",
    "    y_test, y_pred_grid_svc, ax=ax, colorbar=False, cmap=plt.cm.Blues\n",
    ")\n",
    "\n",
    "plt.show()"
   ]
  },
  {
   "cell_type": "code",
   "execution_count": 135,
   "id": "f59b7b4f",
   "metadata": {
    "scrolled": true
   },
   "outputs": [
    {
     "data": {
      "image/png": "[encoded data removed]",
      "text/plain": [
       "<Figure size 640x480 with 1 Axes>"
      ]
     },
     "metadata": {},
     "output_type": "display_data"
    }
   ],
   "source": [
    "svc_model=SVC(probability=True)\n",
    "svc_model.fit(X_smote, y_smote)\n",
    "y_prob = svc_model.predict_proba(X_test)[:, 1]\n",
    "fpr, tpr, thresholds = roc_curve(y_test, y_prob)\n",
    "roc_auc = auc(fpr, tpr)\n",
    "plt.figure()\n",
    "plt.plot(fpr, tpr, color='darkorange', lw=2, label=f'ROC Curve (AUC = {roc_auc:.2f})')\n",
    "plt.plot([0, 1], [0, 1], color='navy', lw=2, linestyle='--')\n",
    "plt.xlim([0.0, 1.0])\n",
    "plt.ylim([0.0, 1.05])\n",
    "plt.xlabel('False Positive Rate')\n",
    "plt.ylabel('True Positive Rate')\n",
    "plt.title('Receiver Operating Characteristic (ROC) Curve')\n",
    "plt.legend(loc='lower right')\n",
    "plt.show()"
   ]
  },
  {
   "cell_type": "markdown",
   "id": "f90b16f8",
   "metadata": {},
   "source": [
    "Area under the curve for this curve is 0.89"
   ]
  },
  {
   "cell_type": "markdown",
   "id": "d9893018",
   "metadata": {},
   "source": [
    "## Random Forest\n",
    "\n",
    "In this section, we will explore the development of a Random Forest model. Random Forest is an ensemble learning technique that combines multiple decision trees to create a powerful and robust predictive model.\n",
    "\n",
    "We have chosen to work with the Random Forest model due to its ability to handle both classification and regression tasks effectively. It's an ensemble of decision trees, which reduces the risk of overfitting and improves model generalization."
   ]
  },
  {
   "cell_type": "code",
   "execution_count": 70,
   "id": "b0d95264",
   "metadata": {},
   "outputs": [],
   "source": [
    "rforest = RandomForestClassifier()"
   ]
  },
  {
   "cell_type": "code",
   "execution_count": 72,
   "id": "396aa98c",
   "metadata": {},
   "outputs": [],
   "source": [
    "_ = rforest.fit(X_smote, y_smote)"
   ]
  },
  {
   "cell_type": "code",
   "execution_count": 73,
   "id": "6571ae8e",
   "metadata": {},
   "outputs": [],
   "source": [
    "y_pred_RF = rforest.predict(X_test)"
   ]
  },
  {
   "cell_type": "code",
   "execution_count": 74,
   "id": "0e92cce1",
   "metadata": {},
   "outputs": [
    {
     "name": "stdout",
     "output_type": "stream",
     "text": [
      "      Model             Score       \n",
      "************************************\n",
      "Accuracy Score:   0.8948364422816978\n",
      "Precision Score:  0.6422018348623854\n",
      "Recall Score:     0.7304347826086957\n",
      "F1 Score:         0.6834825061025225\n",
      "Confusion matrix: [[2890  234]\n",
      " [ 155  420]]\n",
      "Classification report:               precision    recall  f1-score   support\n",
      "\n",
      "           0       0.95      0.93      0.94      3124\n",
      "           1       0.64      0.73      0.68       575\n",
      "\n",
      "    accuracy                           0.89      3699\n",
      "   macro avg       0.80      0.83      0.81      3699\n",
      "weighted avg       0.90      0.89      0.90      3699\n",
      "\n"
     ]
    }
   ],
   "source": [
    "print(f\"{'Model':^18}{'Score':^18}\")\n",
    "print(\"************************************\")\n",
    "print(f\"{'Accuracy Score: ':18}{accuracy_score(y_test, y_pred_RF)}\")\n",
    "print(f\"{'Precision Score: ':18}{precision_score(y_test, y_pred_RF)}\")\n",
    "print(f\"{'Recall Score:':18}{recall_score(y_test, y_pred_RF)}\")\n",
    "print(f\"{'F1 Score: ':18}{f1_score(y_test, y_pred_RF)}\")\n",
    "print(f\"{'Confusion matrix: ':18}{confusion_matrix(y_test, y_pred_RF)}\")\n",
    "print(f\"{'Classification report: ':18}{classification_report(y_test, y_pred_RF)}\")"
   ]
  },
  {
   "cell_type": "markdown",
   "id": "74e97f07",
   "metadata": {},
   "source": [
    "The weighed average F1 Score for this model is 0.9."
   ]
  },
  {
   "cell_type": "code",
   "execution_count": 75,
   "id": "2a8da007",
   "metadata": {},
   "outputs": [
    {
     "data": {
      "image/png": "[encoded data removed]",
      "text/plain": [
       "<Figure size 800x600 with 1 Axes>"
      ]
     },
     "metadata": {},
     "output_type": "display_data"
    }
   ],
   "source": [
    "cm = confusion_matrix(y_test, y_pred_RF)\n",
    "\n",
    "fig, ax = plt.subplots(figsize=(8, 6))\n",
    "\n",
    "ConfusionMatrixDisplay.from_predictions(\n",
    "    y_test, y_pred_RF, ax=ax, colorbar=False, cmap=plt.cm.Blues\n",
    ")\n",
    "\n",
    "plt.show()"
   ]
  },
  {
   "cell_type": "code",
   "execution_count": 120,
   "id": "3056e3c9",
   "metadata": {
    "scrolled": true
   },
   "outputs": [
    {
     "data": {
      "image/png": "[encoded data removed]",
      "text/plain": [
       "<Figure size 640x480 with 1 Axes>"
      ]
     },
     "metadata": {},
     "output_type": "display_data"
    }
   ],
   "source": [
    "y_prob = rforest.predict_proba(X_test)[:, 1]\n",
    "fpr, tpr, thresholds = roc_curve(y_test, y_prob)\n",
    "roc_auc = auc(fpr, tpr)\n",
    "plt.figure()\n",
    "plt.plot(fpr, tpr, color='darkorange', lw=2, label=f'ROC Curve (AUC = {roc_auc:.2f})')\n",
    "plt.plot([0, 1], [0, 1], color='navy', lw=2, linestyle='--')\n",
    "plt.xlim([0.0, 1.0])\n",
    "plt.ylim([0.0, 1.05])\n",
    "plt.xlabel('False Positive Rate')\n",
    "plt.ylabel('True Positive Rate')\n",
    "plt.title('Receiver Operating Characteristic (ROC) Curve')\n",
    "plt.legend(loc='lower right')\n",
    "plt.show()"
   ]
  },
  {
   "cell_type": "markdown",
   "id": "cac358fa",
   "metadata": {},
   "source": [
    "Area under this cureve is 0.92"
   ]
  },
  {
   "cell_type": "markdown",
   "id": "a516f98e",
   "metadata": {},
   "source": [
    "## AdaBoost Technique\n",
    "\n",
    "In this section, we will explore the development of an AdaBoost model. AdaBoost, short for Adaptive Boosting, is an ensemble learning technique that combines multiple weak learners to create a strong and adaptive predictive model.\n",
    "\n",
    "We have chosen to work with the AdaBoost model due to its ensemble approach, which focuses on improving the classification performance of weak learners. AdaBoost is suitable for a variety of classification tasks and is known for its adaptability."
   ]
  },
  {
   "cell_type": "code",
   "execution_count": 77,
   "id": "c5770239",
   "metadata": {},
   "outputs": [],
   "source": [
    "aboost = AdaBoostClassifier()"
   ]
  },
  {
   "cell_type": "code",
   "execution_count": 78,
   "id": "192572e4",
   "metadata": {},
   "outputs": [],
   "source": [
    "_ = aboost.fit(X_smote, y_smote)"
   ]
  },
  {
   "cell_type": "code",
   "execution_count": 79,
   "id": "3ba69ade",
   "metadata": {},
   "outputs": [],
   "source": [
    "y_pred_aboost = aboost.predict(X_test)"
   ]
  },
  {
   "cell_type": "code",
   "execution_count": 80,
   "id": "710bd42e",
   "metadata": {
    "scrolled": false
   },
   "outputs": [
    {
     "name": "stdout",
     "output_type": "stream",
     "text": [
      "      Model             Score       \n",
      "************************************\n",
      "Accuracy Score:   0.8796972154636388\n",
      "Precision Score:  0.5918079096045198\n",
      "Recall Score:     0.7286956521739131\n",
      "F1 Score:         0.6531566640685893\n",
      "Confusion matrix: [[2835  289]\n",
      " [ 156  419]]\n",
      "Classification report:               precision    recall  f1-score   support\n",
      "\n",
      "           0       0.95      0.91      0.93      3124\n",
      "           1       0.59      0.73      0.65       575\n",
      "\n",
      "    accuracy                           0.88      3699\n",
      "   macro avg       0.77      0.82      0.79      3699\n",
      "weighted avg       0.89      0.88      0.88      3699\n",
      "\n"
     ]
    }
   ],
   "source": [
    "print(f\"{'Model':^18}{'Score':^18}\")\n",
    "print(\"************************************\")\n",
    "print(f\"{'Accuracy Score: ':18}{accuracy_score(y_test, y_pred_aboost)}\")\n",
    "print(f\"{'Precision Score: ':18}{precision_score(y_test, y_pred_aboost)}\")\n",
    "print(f\"{'Recall Score:':18}{recall_score(y_test, y_pred_aboost)}\")\n",
    "print(f\"{'F1 Score: ':18}{f1_score(y_test, y_pred_aboost)}\")\n",
    "print(f\"{'Confusion matrix: ':18}{confusion_matrix(y_test, y_pred_aboost)}\")\n",
    "print(f\"{'Classification report: ':18}{classification_report(y_test, y_pred_aboost)}\")"
   ]
  },
  {
   "cell_type": "markdown",
   "id": "d6864f8d",
   "metadata": {},
   "source": [
    "The weighed average F1 Score for this model is 0.88."
   ]
  },
  {
   "cell_type": "code",
   "execution_count": 81,
   "id": "b4c81830",
   "metadata": {},
   "outputs": [
    {
     "data": {
      "image/png": "[encoded data removed]",
      "text/plain": [
       "<Figure size 800x600 with 1 Axes>"
      ]
     },
     "metadata": {},
     "output_type": "display_data"
    }
   ],
   "source": [
    "cm = confusion_matrix(y_test, y_pred_aboost)\n",
    "\n",
    "fig, ax = plt.subplots(figsize=(8, 6))\n",
    "\n",
    "ConfusionMatrixDisplay.from_predictions(\n",
    "    y_test, y_pred_aboost, ax=ax, colorbar=False, cmap=plt.cm.Blues\n",
    ")\n",
    "\n",
    "plt.show()"
   ]
  },
  {
   "cell_type": "code",
   "execution_count": 121,
   "id": "46be2dea",
   "metadata": {
    "scrolled": true
   },
   "outputs": [
    {
     "data": {
      "image/png": "[encoded data removed]",
      "text/plain": [
       "<Figure size 640x480 with 1 Axes>"
      ]
     },
     "metadata": {},
     "output_type": "display_data"
    }
   ],
   "source": [
    "y_prob = aboost.predict_proba(X_test)[:, 1]\n",
    "fpr, tpr, thresholds = roc_curve(y_test, y_prob)\n",
    "roc_auc = auc(fpr, tpr)\n",
    "plt.figure()\n",
    "plt.plot(fpr, tpr, color='darkorange', lw=2, label=f'ROC Curve (AUC = {roc_auc:.2f})')\n",
    "plt.plot([0, 1], [0, 1], color='navy', lw=2, linestyle='--')\n",
    "plt.xlim([0.0, 1.0])\n",
    "plt.ylim([0.0, 1.05])\n",
    "plt.xlabel('False Positive Rate')\n",
    "plt.ylabel('True Positive Rate')\n",
    "plt.title('Receiver Operating Characteristic (ROC) Curve')\n",
    "plt.legend(loc='lower right')\n",
    "plt.show()"
   ]
  },
  {
   "cell_type": "markdown",
   "id": "855068f7",
   "metadata": {},
   "source": [
    "Area under this curve is 0.91."
   ]
  },
  {
   "cell_type": "markdown",
   "id": "92106b03",
   "metadata": {},
   "source": [
    "## Gradient Boosting\n",
    "\n",
    "In this section, we will explore the development of a Gradient Boosting model. Gradient Boosting is a powerful ensemble learning technique that builds an additive model in a stage-wise manner. It's known for its ability to handle complex datasets and deliver high predictive accuracy.\n",
    "\n",
    "We have chosen to work with the Gradient Boosting model due to its effectiveness in improving predictive accuracy by sequentially adding weak learners to the model. It's particularly suitable for tasks where high precision and generalization are required."
   ]
  },
  {
   "cell_type": "code",
   "execution_count": 83,
   "id": "4a0a06c3",
   "metadata": {},
   "outputs": [],
   "source": [
    "gboost = GradientBoostingClassifier()"
   ]
  },
  {
   "cell_type": "code",
   "execution_count": 84,
   "id": "53c2eaf0",
   "metadata": {},
   "outputs": [],
   "source": [
    "_ = gboost.fit(X_smote, y_smote)"
   ]
  },
  {
   "cell_type": "code",
   "execution_count": 85,
   "id": "18eeca08",
   "metadata": {},
   "outputs": [],
   "source": [
    "y_pred_gboost = gboost.predict(X_test)"
   ]
  },
  {
   "cell_type": "code",
   "execution_count": 86,
   "id": "94aa30d6",
   "metadata": {},
   "outputs": [
    {
     "name": "stdout",
     "output_type": "stream",
     "text": [
      "      Model             Score       \n",
      "************************************\n",
      "Accuracy Score:   0.8926736955934036\n",
      "Precision Score:  0.6328358208955224\n",
      "Recall Score:     0.7373913043478261\n",
      "F1 Score:         0.6811244979919678\n",
      "Confusion matrix: [[2878  246]\n",
      " [ 151  424]]\n",
      "Classification report:               precision    recall  f1-score   support\n",
      "\n",
      "           0       0.95      0.92      0.94      3124\n",
      "           1       0.63      0.74      0.68       575\n",
      "\n",
      "    accuracy                           0.89      3699\n",
      "   macro avg       0.79      0.83      0.81      3699\n",
      "weighted avg       0.90      0.89      0.90      3699\n",
      "\n"
     ]
    }
   ],
   "source": [
    "print(f\"{'Model':^18}{'Score':^18}\")\n",
    "print(\"************************************\")\n",
    "print(f\"{'Accuracy Score: ':18}{accuracy_score(y_test, y_pred_gboost)}\")\n",
    "print(f\"{'Precision Score: ':18}{precision_score(y_test, y_pred_gboost)}\")\n",
    "print(f\"{'Recall Score:':18}{recall_score(y_test, y_pred_gboost)}\")\n",
    "print(f\"{'F1 Score: ':18}{f1_score(y_test, y_pred_gboost)}\")\n",
    "print(f\"{'Confusion matrix: ':18}{confusion_matrix(y_test, y_pred_gboost)}\")\n",
    "print(f\"{'Classification report: ':18}{classification_report(y_test, y_pred_gboost)}\")"
   ]
  },
  {
   "cell_type": "markdown",
   "id": "adeb6610",
   "metadata": {},
   "source": [
    "The weighed average F1 Score for this model is 0.9."
   ]
  },
  {
   "cell_type": "code",
   "execution_count": 87,
   "id": "00b53846",
   "metadata": {},
   "outputs": [
    {
     "data": {
      "image/png": "[encoded data removed]",
      "text/plain": [
       "<Figure size 800x600 with 1 Axes>"
      ]
     },
     "metadata": {},
     "output_type": "display_data"
    }
   ],
   "source": [
    "cm = confusion_matrix(y_test, y_pred_gboost)\n",
    "\n",
    "fig, ax = plt.subplots(figsize=(8, 6))\n",
    "\n",
    "ConfusionMatrixDisplay.from_predictions(\n",
    "    y_test, y_pred_gboost, ax=ax, colorbar=False, cmap=plt.cm.Blues\n",
    ")\n",
    "\n",
    "plt.show()"
   ]
  },
  {
   "cell_type": "code",
   "execution_count": 122,
   "id": "e23d83ba",
   "metadata": {},
   "outputs": [
    {
     "data": {
      "image/png": "[encoded data removed]",
      "text/plain": [
       "<Figure size 640x480 with 1 Axes>"
      ]
     },
     "metadata": {},
     "output_type": "display_data"
    }
   ],
   "source": [
    "y_prob = gboost.predict_proba(X_test)[:, 1]\n",
    "fpr, tpr, thresholds = roc_curve(y_test, y_prob)\n",
    "roc_auc = auc(fpr, tpr)\n",
    "plt.figure()\n",
    "plt.plot(fpr, tpr, color='darkorange', lw=2, label=f'ROC Curve (AUC = {roc_auc:.2f})')\n",
    "plt.plot([0, 1], [0, 1], color='navy', lw=2, linestyle='--')\n",
    "plt.xlim([0.0, 1.0])\n",
    "plt.ylim([0.0, 1.05])\n",
    "plt.xlabel('False Positive Rate')\n",
    "plt.ylabel('True Positive Rate')\n",
    "plt.title('Receiver Operating Characteristic (ROC) Curve')\n",
    "plt.legend(loc='lower right')\n",
    "plt.show()"
   ]
  },
  {
   "cell_type": "markdown",
   "id": "ec47d01b",
   "metadata": {},
   "source": [
    "## XGBoost\n",
    "\n",
    "In this section, we will explore the development of an XGBoost model. XGBoost, short for Extreme Gradient Boosting, is a powerful and efficient ensemble learning technique that has gained popularity for its excellent performance in various machine learning tasks.\n",
    "\n",
    "We have chosen to work with the XGBoost model due to its exceptional predictive accuracy and efficiency. XGBoost is known for its ability to handle complex datasets, feature selection, and regularization, making it a top choice for many data science projects.\n"
   ]
  },
  {
   "cell_type": "code",
   "execution_count": 89,
   "id": "296de11a",
   "metadata": {},
   "outputs": [],
   "source": [
    "xgboost = XGBClassifier()"
   ]
  },
  {
   "cell_type": "code",
   "execution_count": 90,
   "id": "b5990b55",
   "metadata": {},
   "outputs": [],
   "source": [
    "_ = xgboost.fit(X_smote, y_smote)"
   ]
  },
  {
   "cell_type": "code",
   "execution_count": 91,
   "id": "6a9c454b",
   "metadata": {},
   "outputs": [],
   "source": [
    "y_pred_xboost = xgboost.predict(X_test)"
   ]
  },
  {
   "cell_type": "code",
   "execution_count": 92,
   "id": "6350f41b",
   "metadata": {
    "scrolled": true
   },
   "outputs": [
    {
     "name": "stdout",
     "output_type": "stream",
     "text": [
      "      Model             Score       \n",
      "************************************\n",
      "Accuracy Score:   0.8921330089213301\n",
      "Precision Score:  0.6517241379310345\n",
      "Recall Score:     0.6573913043478261\n",
      "F1 Score:         0.6545454545454545\n",
      "Confusion matrix: [[2922  202]\n",
      " [ 197  378]]\n",
      "Classification report:               precision    recall  f1-score   support\n",
      "\n",
      "           0       0.94      0.94      0.94      3124\n",
      "           1       0.65      0.66      0.65       575\n",
      "\n",
      "    accuracy                           0.89      3699\n",
      "   macro avg       0.79      0.80      0.80      3699\n",
      "weighted avg       0.89      0.89      0.89      3699\n",
      "\n"
     ]
    }
   ],
   "source": [
    "print(f\"{'Model':^18}{'Score':^18}\")\n",
    "print(\"************************************\")\n",
    "print(f\"{'Accuracy Score: ':18}{accuracy_score(y_test, y_pred_xboost)}\")\n",
    "print(f\"{'Precision Score: ':18}{precision_score(y_test, y_pred_xboost)}\")\n",
    "print(f\"{'Recall Score:':18}{recall_score(y_test, y_pred_xboost)}\")\n",
    "print(f\"{'F1 Score: ':18}{f1_score(y_test, y_pred_xboost)}\")\n",
    "print(f\"{'Confusion matrix: ':18}{confusion_matrix(y_test, y_pred_xboost)}\")\n",
    "print(f\"{'Classification report: ':18}{classification_report(y_test, y_pred_xboost)}\")"
   ]
  },
  {
   "cell_type": "markdown",
   "id": "3f0ab69f",
   "metadata": {},
   "source": [
    "The weighed average F1 Score for this model is 0.89."
   ]
  },
  {
   "cell_type": "code",
   "execution_count": 93,
   "id": "a5090eec",
   "metadata": {},
   "outputs": [
    {
     "data": {
      "image/png": "[encoded data removed]",
      "text/plain": [
       "<Figure size 800x600 with 1 Axes>"
      ]
     },
     "metadata": {},
     "output_type": "display_data"
    }
   ],
   "source": [
    "cm = confusion_matrix(y_test, y_pred_xboost)\n",
    "\n",
    "fig, ax = plt.subplots(figsize=(8, 6))\n",
    "\n",
    "ConfusionMatrixDisplay.from_predictions(\n",
    "    y_test, y_pred_xboost, ax=ax, colorbar=False, cmap=plt.cm.Blues\n",
    ")\n",
    "\n",
    "plt.show()"
   ]
  },
  {
   "cell_type": "code",
   "execution_count": 123,
   "id": "d03fd2dc",
   "metadata": {
    "scrolled": true
   },
   "outputs": [
    {
     "data": {
      "image/png": "[encoded data removed]",
      "text/plain": [
       "<Figure size 640x480 with 1 Axes>"
      ]
     },
     "metadata": {},
     "output_type": "display_data"
    }
   ],
   "source": [
    "y_prob = xgboost.predict_proba(X_test)[:, 1]\n",
    "fpr, tpr, thresholds = roc_curve(y_test, y_prob)\n",
    "roc_auc = auc(fpr, tpr)\n",
    "plt.figure()\n",
    "plt.plot(fpr, tpr, color='darkorange', lw=2, label=f'ROC Curve (AUC = {roc_auc:.2f})')\n",
    "plt.plot([0, 1], [0, 1], color='navy', lw=2, linestyle='--')\n",
    "plt.xlim([0.0, 1.0])\n",
    "plt.ylim([0.0, 1.05])\n",
    "plt.xlabel('False Positive Rate')\n",
    "plt.ylabel('True Positive Rate')\n",
    "plt.title('Receiver Operating Characteristic (ROC) Curve')\n",
    "plt.legend(loc='lower right')\n",
    "plt.show()"
   ]
  },
  {
   "cell_type": "markdown",
   "id": "346a6847",
   "metadata": {},
   "source": [
    "Area under this curve is 0.92."
   ]
  },
  {
   "cell_type": "markdown",
   "id": "8a81b13b",
   "metadata": {},
   "source": [
    "## Neural Networks\n",
    "\n",
    "In this section, we will explore the development of a Neural Network model. Neural Networks, often referred to as deep learning models, have gained significant popularity for their ability to handle complex tasks and learn intricate patterns from data.\n",
    "\n",
    "We have chosen to work with a Neural Network model due to its capacity to capture complex relationships within data and solve a wide range of machine learning problems, including image classification, natural language processing, and more."
   ]
  },
  {
   "cell_type": "code",
   "execution_count": 125,
   "id": "2387d22b",
   "metadata": {},
   "outputs": [],
   "source": [
    "ann = MLPClassifier(hidden_layer_sizes=(500,200,100,10), max_iter=1000)\n",
    "ann.fit(X_smote, y_smote)\n",
    "y_test_pred_ann = ann.predict(X_test)"
   ]
  },
  {
   "cell_type": "markdown",
   "id": "8c2d6959",
   "metadata": {},
   "source": [
    "Here we used Artificial Neural Network (ANN) using the MLPClassifier from the scikit-learn library.\n",
    "\n",
    "In this case, the neural network has four hidden layers with 500 neurons in the first layer, 200 neurons in the second layer, 100 neurons in the third layer, and 10 neurons in the fourth layer. These are the layers that process and learn from the data."
   ]
  },
  {
   "cell_type": "code",
   "execution_count": 126,
   "id": "892b4316",
   "metadata": {
    "scrolled": true
   },
   "outputs": [
    {
     "name": "stdout",
     "output_type": "stream",
     "text": [
      "Accuracy Score:   0.8678021086780211\n",
      "Precision Score:  0.5711920529801324\n",
      "Recall Score:     0.6\n",
      "F1 Score:         0.5852417302798982\n",
      "Confusion matrix: [[2865  259]\n",
      " [ 230  345]]\n",
      "Classification report:               precision    recall  f1-score   support\n",
      "\n",
      "           0       0.93      0.92      0.92      3124\n",
      "           1       0.57      0.60      0.59       575\n",
      "\n",
      "    accuracy                           0.87      3699\n",
      "   macro avg       0.75      0.76      0.75      3699\n",
      "weighted avg       0.87      0.87      0.87      3699\n",
      "\n"
     ]
    }
   ],
   "source": [
    "print(f\"{'Accuracy Score: ':18}{accuracy_score(y_test,y_test_pred_ann )}\")\n",
    "print(f\"{'Precision Score: ':18}{precision_score(y_test, y_test_pred_ann)}\")\n",
    "print(f\"{'Recall Score:':18}{recall_score(y_test, y_test_pred_ann)}\")\n",
    "print(f\"{'F1 Score: ':18}{f1_score(y_test, y_test_pred_ann)}\")\n",
    "print(f\"{'Confusion matrix: ':18}{confusion_matrix(y_test, y_test_pred_ann)}\")\n",
    "print(f\"{'Classification report: ':18}{classification_report(y_test, y_test_pred_ann)}\")"
   ]
  },
  {
   "cell_type": "markdown",
   "id": "488b2ebb",
   "metadata": {},
   "source": [
    "Area under this curve is 0.87."
   ]
  },
  {
   "cell_type": "code",
   "execution_count": 127,
   "id": "51e8066d",
   "metadata": {},
   "outputs": [
    {
     "data": {
      "image/png": "[encoded data removed]",
      "text/plain": [
       "<Figure size 640x480 with 1 Axes>"
      ]
     },
     "metadata": {},
     "output_type": "display_data"
    }
   ],
   "source": [
    "y_prob = ann.predict_proba(X_test)[:, 1]\n",
    "fpr, tpr, thresholds = roc_curve(y_test, y_prob)\n",
    "roc_auc = auc(fpr, tpr)\n",
    "plt.figure()\n",
    "plt.plot(fpr, tpr, color='darkorange', lw=2, label=f'ROC Curve (AUC = {roc_auc:.2f})')\n",
    "plt.plot([0, 1], [0, 1], color='navy', lw=2, linestyle='--')\n",
    "plt.xlim([0.0, 1.0])\n",
    "plt.ylim([0.0, 1.05])\n",
    "plt.xlabel('False Positive Rate')\n",
    "plt.ylabel('True Positive Rate')\n",
    "plt.title('Receiver Operating Characteristic (ROC) Curve')\n",
    "plt.legend(loc='lower right')\n",
    "plt.show()"
   ]
  },
  {
   "cell_type": "markdown",
   "id": "9dcbebda",
   "metadata": {},
   "source": [
    "## Results and Discussion Summary\n",
    "\n",
    "### Before Hyper parameter tuning :\n",
    "\n",
    "| Description  of Model    | Accuracy | Recall   | Precision | f1-score |ROC-AUC|\n",
    "|--------------------------|----------|----------|-----------|----------|-------|\n",
    "| Logistic                 | 0.85     | 0.85     | 0.88      | 0.86     |0.9    |\n",
    "| KNN                      | 0.73     | 0.73     | 0.86      | 0.77     | -     |\n",
    "| SVM_MODEL(Linear kernel) | 0.88     | 0.88     | 0.90      | 0.88     | -     |\n",
    "| SVM_MODEL(Rbf kernel)    | 0.86     | 0.86     | 0.89      | 0.87     |0.8    |\n",
    "| Decision Tree            | 0.86     | 0.86     | 0.87      | 0.87     |0.78   |\n",
    "| Random Forest            | 0.89     | 0.89     | 0.90      | 0.90     |0.92   |\n",
    "| Ada Boost                | 0.88     | 0.88     | 0.89      | 0.88     |0.91   |\n",
    "| Gradient Boost           | 0.89     | 0.89     | 0.90      | 0.90     |0.93   |\n",
    "| XG Boost                 | 0.89     | 0.89     | 0.89      | 0.89     |0.92   |\n",
    "| Neural Network           | 0.87     | 0.87     | 0.87      | 0.87     |0.87   |\n",
    "\n",
    "In our Online Shoppers Purchase Intention Model, maximizing the F1 Score is crucial to avoid losing potential revenue.Its essential to balance both False Positives and False Negatives.As False positives may lead to annoying or spamming customers, which may cause dissatisfaction and even loss of potential sales if the user decides to disengage from the platform. It can also incur additional marketing costs and resource wastage.False negatives can result in missed opportunities.The user may not receive relevant product recommendations or incentives, potentially causing them to abandon their shopping session. Over time, this can impact the business's profitability and customer satisfaction.\n",
    "\n",
    "Since we are focused on maximizing our F1 score value from the initial stage of the problem,we can observe from the above values that Gradient Boost model is giving us higher F1 score value than the other models.we are gonna consider it as our best model before hyperparameter tuning since we are mainly focused on maximizing our F1 Score.\n",
    "\n",
    "### After Hyper parameter tuning : \n",
    "\n",
    "\n",
    "| Description               | Accuracy | Recall   | Precision | f1-score |\n",
    "|---------------------------|----------|----------|-----------|----------|\n",
    "| Logistic (Random Search)  | 0.86     | 0.86     | 0.89      | 0.87     |\n",
    "| Logistic (Grid Search)    | 0.88     | 0.88     | 0.90      | 0.89     |\n",
    "| SVM(Rbf)(RandomSearch)    | 0.84     | 0.84     | 0.81      | 0.82     |\n",
    "| SVM(Rbf)(GridSearch)      | 0.84     | 0.84     | 0.81      | 0.82     |\n",
    "| DecisionTree(RandomSearch)| 0.87     | 0.87     | 0.90      | 0.88     |\n",
    "| DecisionTree(GridSearch)  | 0.87     | 0.87     | 0.90      | 0.88     |\n",
    "\n",
    "\n",
    "We can observe that Gradient Boost Model is giving us higher F1 Score value than other models.Even thouhgh Random forest model also has same F1 Score value=0.9, Area under curve (AUC) is little bit more for Gradient Boost model.So we can choose the best prediction model as Gradient Boost in this problem context.We will deploy Gradient Boost model for production.\n",
    "\n",
    "We chose our business objective to maintain both False Negatives and False positives we took F1 scrore as our main metric measure.However this might not be the case in every business, Based on the different Business Objectives and requirements one can choose to maximize Recall maintaining a threshold cap on Precison or Vice versa.\n",
    "\n",
    "#### Future Scope\n",
    "\n",
    "The scope of this project is only limited to predicting customer purchase intention and evaluating and measuring the F1score of these predictions.As for the Future scope,accurately predicting customer purchase intentions can significantly enhance the development of diverse marketing strategies and potentially integrate with an E-COMMERCE WEBSITE PRODUCT RECOMMENDATION SYSTEM. \n",
    "\n",
    "For example, if the machine learning solution indicates a high likelihood of a customer's purchase intent, the recommendation system might suggest premium or more expensive products, as it can be inferred that the user is inclined to consider higher-quality or pricier items when their intent to purchase is strong. On the other hand, if the solution predicts a lower purchase intent, the recommendation system could propose discounted products or items with special offers, such as 'Buy one, get one free.'Furthermore, the historical data on how customer intentions change in response to these recommendations can also be studied and applied to enhance the recommendation system's effectiveness.\n",
    "\n",
    "#### Conclusion\n",
    "\n",
    "This remarkable F1 score demonstrates the model's effectiveness in predicting whether a visitor is likely to make a purchase during their online session. It signifies the potential for businesses to significantly enhance their sales conversion rates by leveraging such predictive models to provide real-time assistance and incentives to potential customers.\n",
    "\n",
    "In conclusion, our project aimed to address the pressing issue of low sales conversion in online shopping.We developed a predictive model with gboost that proved to be highly successful, achieving a weighted average F1 score of 0.9. By understanding and predicting customer purchase intentions, businesses can proactively engage with potential customers and optimize their online shopping experience, ultimately increasing revenue and profitability. This solution enables companies to remain competitive and thrive in the ever-growing e-commerce sector."
   ]
  }
 ],
 "metadata": {
  "kernelspec": {
   "display_name": "Python 3 (ipykernel)",
   "language": "python",
   "name": "python3"
  },
  "language_info": {
   "codemirror_mode": {
    "name": "ipython",
    "version": 3
   },
   "file_extension": ".py",
   "mimetype": "text/x-python",
   "name": "python",
   "nbconvert_exporter": "python",
   "pygments_lexer": "ipython3",
   "version": "3.11.4"
  }
 },
 "nbformat": 4,
 "nbformat_minor": 5
}
